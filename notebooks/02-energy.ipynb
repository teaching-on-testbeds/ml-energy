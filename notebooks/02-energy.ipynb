{
 "cells": [
  {
   "cell_type": "markdown",
   "metadata": {},
   "source": [
    "## Energy and time to train a neural network\n",
    "\n",
    "In the previous notebook, we trained a model with a specific learning rate and batch size. However, the choice of training hyperparameters can have a substantial impact on the time and energy it takes to train our model. In this notebook, we will train a series of models all to the same validation accuracy “target”, but with different training hyperparameters. For each model, we will consider:\n",
    "\n",
    "-   how much *time* it takes to achieve that accuracy target (“time to accuracy”)\n",
    "-   how much *energy* it takes to achieve that accuracy target (“energy to accuracy”)\n",
    "-   and the *test accuracy* for the model, given that it is trained to the specified validation accuracy target"
   ],
   "id": "f7e833dc-2a71-470a-a47e-45e525ac1e97"
  },
  {
   "cell_type": "code",
   "execution_count": null,
   "metadata": {},
   "outputs": [],
   "source": [
    "import numpy as np\n",
    "import matplotlib.pyplot as plt\n",
    "import seaborn as sns\n",
    "%matplotlib inline"
   ],
   "id": "b942f62f-ea55-49df-a39e-558550464d76"
  },
  {
   "cell_type": "code",
   "execution_count": null,
   "metadata": {},
   "outputs": [],
   "source": [
    "import tensorflow as tf\n",
    "from tensorflow.keras.models import Model, Sequential\n",
    "from tensorflow.keras.layers import Dense, Activation, Input\n",
    "from tensorflow.keras import optimizers\n",
    "from tensorflow.keras import callbacks\n",
    "import tensorflow.keras.backend as K"
   ],
   "id": "5dbf12a7-0bab-459b-a21f-6c42640a6a1e"
  },
  {
   "cell_type": "markdown",
   "metadata": {},
   "source": [
    "### Loading Data\n",
    "\n",
    "Here, we’ll load the processed data defined in the previous notebook"
   ],
   "id": "c647dd70-6227-4f77-9cfe-4c1b12c3b716"
  },
  {
   "cell_type": "code",
   "execution_count": null,
   "metadata": {},
   "outputs": [],
   "source": [
    "Xtr_scale = np.load('instrument_dataset/uiowa_std_scale_train_data.npy')\n",
    "ytr = np.load('instrument_dataset/uiowa_permuted_train_labels.npy')\n",
    "Xts_scale = np.load('instrument_dataset/uiowa_std_scale_test_data.npy')\n",
    "yts = np.load('instrument_dataset/uiowa_test_labels.npy')"
   ],
   "id": "02775926-81f2-4a8a-abed-138479f21b15"
  },
  {
   "cell_type": "code",
   "execution_count": null,
   "metadata": {},
   "outputs": [],
   "source": [
    "nh = 256 #Number of units for the hidden layer of the neural network"
   ],
   "id": "32715306-239c-42d2-a1d4-78cfca753d59"
  },
  {
   "cell_type": "markdown",
   "metadata": {},
   "source": [
    "### Energy consumption\n",
    "\n",
    "To do this, first we will need some way to measure the energy used to train the model. We will use [Zeus](https://ml.energy/zeus/overview/), a Python package developed by researchers at the University of Michigan, to measure the GPU energy consumption."
   ],
   "id": "1de9f5ce-cd68-4c45-b22d-e5c340763e11"
  },
  {
   "cell_type": "markdown",
   "metadata": {},
   "source": [
    "Install the zeus-ml package, we will be using this package to measure energy comsumption of the GPU"
   ],
   "id": "caaf31e7-f45a-4544-8586-9ae33d5cb3a7"
  },
  {
   "cell_type": "code",
   "execution_count": null,
   "metadata": {},
   "outputs": [],
   "source": [
    "!pip install zeus==0.8.2"
   ],
   "id": "27a22ef7-551c-4091-beb4-8e6af6e491b6"
  },
  {
   "cell_type": "markdown",
   "metadata": {},
   "source": [
    "Import the zeus-ml package, start an instance of a monitor, specifying the GPU that it should monitor"
   ],
   "id": "a40942db-91e3-4e4b-a1a7-c44aa69bf37a"
  },
  {
   "cell_type": "code",
   "execution_count": null,
   "metadata": {},
   "outputs": [],
   "source": [
    "from zeus.monitor import ZeusMonitor\n",
    "\n",
    "monitor = ZeusMonitor()"
   ],
   "id": "e06a53e9-d4e5-41cb-8c2c-f6761431a962"
  },
  {
   "cell_type": "markdown",
   "metadata": {},
   "source": [
    "When you want to measure GPU energy usage, you will:\n",
    "\n",
    "-   start a “monitoring window”\n",
    "-   do your GPU-intensive computation (e.g. call `model.fit`)\n",
    "-   stop the “monitoring window”\n",
    "\n",
    "and then you can get the time and total energy used by the GPU in the monitoring window.\n",
    "\n",
    "Try it now :"
   ],
   "id": "8e4b096c-c5f0-4aad-a83d-5948096a6dab"
  },
  {
   "cell_type": "code",
   "execution_count": null,
   "metadata": {},
   "outputs": [],
   "source": [
    "model = Sequential()\n",
    "model.add(Input((Xtr_scale.shape[1],)))\n",
    "model.add(Dense(nh, activation = 'sigmoid'))\n",
    "model.add(Dense(len(np.unique(ytr)), activation = 'softmax'))\n",
    "\n",
    "opt = optimizers.Adam(learning_rate=0.001)\n",
    "loss_fn = tf.keras.losses.SparseCategoricalCrossentropy()\n",
    "\n",
    "model.compile(optimizer = opt, loss = loss_fn, metrics = ['accuracy'])"
   ],
   "id": "7598432a-908e-4ca8-a50a-cc755402e669"
  },
  {
   "cell_type": "code",
   "execution_count": null,
   "metadata": {},
   "outputs": [],
   "source": [
    "try:\n",
    "    monitor.begin_window(\"test\")\n",
    "# if the last measurement window is still running\n",
    "except ValueError:\n",
    "    _ = monitor.end_window(\"test\")\n",
    "    monitor.begin_window(\"test\")\n",
    "\n",
    "model.fit(Xtr_scale, ytr, epochs=5)\n",
    "measurement = monitor.end_window(\"test\")\n",
    "print(\"Measured time (s)  :\" , measurement.time)\n",
    "print(\"Measured energy (J):\" , measurement.total_energy)"
   ],
   "id": "b30be9b0-5804-4119-a525-0a3b7084480c"
  },
  {
   "cell_type": "markdown",
   "metadata": {},
   "source": [
    "### `TrainToAccuracy` callback\n",
    "\n",
    "Next, we need a way to train a model until we achieve our desired validation accuracy. We will [write a callback function](https://www.tensorflow.org/guide/keras/writing_your_own_callbacks) following these specifications:\n",
    "\n",
    "-   It will be called `TrainToAccuracy` and will accept two arguments: a `threshold` and a `patience` value.\n",
    "-   If the model’s validation accuracy is higher than the `threshold` for `patience` epochs in a row, stop training.\n",
    "-   In the `on_epoch_end` function, which will be called at the end of every epoch during training, you should get the current validation accuracy using `currect_acc = logs.get(\"val_accuracy\")`. Then, set `self.model.stop_training = True` if the condition above is met.\n",
    "-   The default values of `threshold` and `patience` are given below, but other values may be passed as arguments at runtime.\n",
    "\n",
    "Then, when you call `model.fit()`, you will add the `TrainToAccuracy` callback as in\n",
    "\n",
    "    callbacks=[TrainToAccuracy(threshold=0.98, patience=5)]"
   ],
   "id": "3facde83-a123-48f2-b7c8-04d5f152d360"
  },
  {
   "cell_type": "code",
   "execution_count": null,
   "metadata": {},
   "outputs": [],
   "source": [
    "# TODO - write a callback function"
   ],
   "id": "0f6ca45d-0c5c-4238-990c-22032a6c634f"
  },
  {
   "cell_type": "markdown",
   "metadata": {},
   "source": [
    "Try it! run the following cell to test your `TrainToAccuracy` callback."
   ],
   "id": "08acd45e-3640-4351-bd4b-7c9fbc44f4c4"
  },
  {
   "cell_type": "code",
   "execution_count": null,
   "metadata": {},
   "outputs": [],
   "source": [
    "model.fit(Xtr_scale, ytr, epochs=100, validation_split = 0.2, callbacks=[TrainToAccuracy(threshold=0.98, patience=5)])"
   ],
   "id": "d604871c-8a0d-474a-a1ca-76afac87272a"
  },
  {
   "cell_type": "markdown",
   "metadata": {},
   "source": [
    "Your model shouldn’t *really* train for 100 epochs - it should stop training as soon as 98% validation accuracy is achieved for 5 epochs in a row! (Your “test” is not graded, you may change the `threshold` and `patience` values in this “test” call to `model.fit` in order to check your work.)\n",
    "\n",
    "Note that since we are now using the validation set performance to *decide* when to stop training the model, we are no longer “allowed” to pass the test set as `validation_data`. The test set must never be used to make decisions during the model training process - only for evaluation of the final model. Instead, we specify that 20% of the training data should be held out as a validation set, and that is the validation accuracy that is used to determine when to stop training."
   ],
   "id": "f300803f-8323-40af-8412-180773a84cbd"
  },
  {
   "cell_type": "markdown",
   "metadata": {},
   "source": [
    "### See how TTA/ETA varies with learning rate, batch size\n",
    "\n",
    "Now, you will repeat your model preparation and fitting code - with your new `TrainToAccuracy` callback - but in a loop. First, you will iterate over different learning rates. Use a fixed batch size of 128, but consider the following learning rates for this experiment.\n",
    "\n",
    "``` python\n",
    "[0.0001, 0.001, 0.01, 0.1]\n",
    "```\n",
    "\n",
    "In each iteration of each loop, you will prepare a model (with the appropriate training hyperparameters) and train it until:\n",
    "\n",
    "-   either it has achieved **0.98 accuracy for 3 epoches in a row** on a 20% validation subset of the training data,\n",
    "-   or, it has trained for 500 epochs\n",
    "\n",
    "whichever comes FIRST."
   ],
   "id": "4d205057-1be9-4505-999a-20dddc69a09d"
  },
  {
   "cell_type": "markdown",
   "metadata": {},
   "source": [
    "For each model, you will record:\n",
    "\n",
    "-   the training hyperparameters (learning rate, batch size)\n",
    "-   the number of epochs of training needed to achieve the target validation accuracy\n",
    "-   the accuracy on the *test* data (not the validation data!). After fitting the model, use `model.evaluate` and pass the scaled *test* data to get the test loss and test accuracy\n",
    "-   The GPU energy and time to train the model to the desired validation accuracy, as computed by a `zeus-ml` measurement window that starts just before `model.fit` and ends just after `model.fit`."
   ],
   "id": "00e006fb-8467-4664-8691-006380b99c28"
  },
  {
   "cell_type": "code",
   "execution_count": null,
   "metadata": {},
   "outputs": [],
   "source": [
    "\n",
    "# TODO - iterate over learning rates and get TTA/ETA\n",
    "\n",
    "# default learning rate and batch size -\n",
    "batch_size = 128\n",
    "\n",
    "metrics_vs_lr = []\n",
    "for lr in [0.0001, 0.001, 0.01, 0.1]:\n",
    "    # TODO - set up model, including appropriate optimizer hyperparameters\n",
    "\n",
    "    # start measurement\n",
    "    try:\n",
    "        monitor.begin_window(\"model_train\")\n",
    "    # if the last measurement window is still running\n",
    "    except ValueError:\n",
    "        _ = monitor.end_window(\"model_train\")\n",
    "        monitor.begin_window(\"model_train\")\n",
    "\n",
    "\n",
    "    # TODO - fit model on (scaled) training data\n",
    "    # until specified validation accuracy is achieved (don't use test data!)\n",
    "    # but stop after 500 epochs even if validation accuracy is not achieved\n",
    "\n",
    "\n",
    "    # end measurement\n",
    "    measurement = monitor.end_window(\"model_train\")\n",
    "\n",
    "    # TODO - evaluate model on (scaled) test data\n",
    "\n",
    "\n",
    "    # save results in a dictionary\n",
    "    model_metrics = {\n",
    "       'batch_size': ,\n",
    "       'learning_rate': ,\n",
    "       'epochs': ,\n",
    "       'test_accuracy': ,\n",
    "       'total_energy': ,\n",
    "       'train_time': \n",
    "    }\n",
    "\n",
    "    # TODO - append model_metrics dictionary to the metrics_vs_lr list"
   ],
   "id": "e52d1d71-23b8-4382-9d9a-bbff02178045"
  },
  {
   "cell_type": "markdown",
   "metadata": {},
   "source": [
    "Next, you will visualize the results.\n",
    "\n",
    "Create a figure with four subplots. In each subplot, create a bar plot with learning rate on the horizontal axis and (1) Time to accuracy, (2) Energy to accuracy, (3) Test accuracy, (4) Epochs, on the vertical axis on each subplot, respectively. Use an appropriate vertical range for each subplot. Label all axes."
   ],
   "id": "949c57cf-6d51-417d-be6c-4ff20a3044e3"
  },
  {
   "cell_type": "code",
   "execution_count": null,
   "metadata": {},
   "outputs": [],
   "source": [
    "# TODO - visualize effect of varying learning rate, when training to a target accuracy"
   ],
   "id": "350c6aa4-d9f0-4607-9025-4b6f67fa9d98"
  },
  {
   "cell_type": "markdown",
   "metadata": {},
   "source": [
    "**Comment on the results**: Given that the model is trained to a target validation accuracy, what is the effect of the learning rate on the training process?"
   ],
   "id": "e5682e17-18d1-4372-9391-c2186de34a89"
  },
  {
   "cell_type": "markdown",
   "metadata": {},
   "source": [
    "Now, you will repeat, with a loop over different batch sizes. Use a fixed learning rate of 0.001, but consider the following batch sizes -\n",
    "\n",
    "``` python\n",
    "[64, 128, 256, 512, 1024, 2048, 4096, 8192]\n",
    "```"
   ],
   "id": "4048e47f-e324-4250-a2a6-1f5b081308b6"
  },
  {
   "cell_type": "code",
   "execution_count": null,
   "metadata": {},
   "outputs": [],
   "source": [
    "# TODO - iterate over batch size and get TTA/ETA\n",
    "\n",
    "# default learning rate and batch size -\n",
    "lr = 0.001\n",
    "metrics_vs_bs = []\n",
    "\n",
    "for batch_size in [64, 128, 256, 512, 1024, 2048, 4096, 8192]:\n",
    "\n",
    "    # TODO - set up model, including appropriate optimizer hyperparameters\n",
    "\n",
    "    # start measurement\n",
    "    try:\n",
    "        monitor.begin_window(\"model_train\")\n",
    "    # if the last measurement window is still running\n",
    "    except ValueError:\n",
    "        _ = monitor.end_window(\"model_train\")\n",
    "        monitor.begin_window(\"model_train\")\n",
    "\n",
    "\n",
    "    # TODO - fit model on (scaled) training data\n",
    "    # until specified validation accuracy is achieved (don't use test data!)\n",
    "    # but stop after 500 epochs even if validation accuracy is not achieved\n",
    "\n",
    "    # end measurement\n",
    "    measurement = monitor.end_window(\"model_train\")\n",
    "\n",
    "    # TODO - evaluate model on (scaled) test data\n",
    "\n",
    "    # save results in a dictionary\n",
    "    model_metrics = {\n",
    "       'batch_size': ,\n",
    "       'learning_rate': ,\n",
    "       'epochs': ,\n",
    "       'test_accuracy': ,\n",
    "       'total_energy': ,\n",
    "       'train_time': \n",
    "    }\n",
    "\n",
    "    # TODO - append model_metrics dictionary to the metrics_vs_bs list"
   ],
   "id": "5cd5a900-35cd-4f8a-bd04-b2884a56eec4"
  },
  {
   "cell_type": "markdown",
   "metadata": {},
   "source": [
    "Next, you will visualize the results.\n",
    "\n",
    "Create a figure with four subplots. In each subplot, create a bar plot with batch size on the horizontal axis and (1) Time to accuracy, (2) Energy to accuracy, (3) Test accuracy, (4) Epochs, on the vertical axis on each subplot, respectively. Use an appropriate vertical range for each subplot. Label all axes."
   ],
   "id": "0d7a52ef-974e-4516-8978-707b39651576"
  },
  {
   "cell_type": "code",
   "execution_count": null,
   "metadata": {},
   "outputs": [],
   "source": [
    "# TODO - visualize effect of varying batch size, when training to a target accuracy\n"
   ],
   "id": "7df2b32a-7284-4687-a3b1-f43ab0893966"
  },
  {
   "cell_type": "markdown",
   "metadata": {},
   "source": [
    "**Comment on the results**: Given that the model is trained to a target validation accuracy, what is the effect of the batch size on the training process in this example? What do you observe about how time and energy per epoch and number of epochs required varies with batch size?"
   ],
   "id": "030df8f3-1774-4d79-882b-81c5fae64072"
  }
 ],
 "nbformat": 4,
 "nbformat_minor": 5,
 "metadata": {}
}
