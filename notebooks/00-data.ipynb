{
 "cells": [
  {
   "cell_type": "markdown",
   "metadata": {},
   "source": [
    "# Load data for music classification\n",
    "\n",
    "**Note**: This experiment is designed to run on a GPU runtime.\n",
    "\n",
    "In this assignment, we will look at an audio classification problem. Given a sample of music, we want to determine which instrument (e.g. trumpet, violin, piano) is playing.\n",
    "\n",
    "*This assignment is closely based on one by Sundeep Rangan, from his [IntroML GitHub repo](https://github.com/sdrangan/introml/).*"
   ],
   "id": "c20f7e56-21a8-40cc-af76-efd2515927f1"
  },
  {
   "cell_type": "code",
   "execution_count": null,
   "metadata": {},
   "outputs": [],
   "source": [
    "import numpy as np\n",
    "import matplotlib\n",
    "import matplotlib.pyplot as plt\n",
    "%matplotlib inline"
   ],
   "id": "9ab91ec4-955c-43fb-85b0-7f477d277eb4"
  },
  {
   "cell_type": "markdown",
   "metadata": {},
   "source": [
    "## Audio Feature Extraction with Librosa\n",
    "\n",
    "The key to audio classification is to extract the correct features. The `librosa` package in python has a rich set of methods for extracting the features of audio samples commonly used in machine learning tasks, such as speech recognition and sound classification."
   ],
   "id": "512ae9a7-8876-4f61-aa1d-641a381fd4a6"
  },
  {
   "cell_type": "code",
   "execution_count": null,
   "metadata": {},
   "outputs": [],
   "source": [
    "import librosa\n",
    "import librosa.display\n",
    "import librosa.feature"
   ],
   "id": "996fd4aa-1441-4b3c-b23b-8922c4d64804"
  },
  {
   "cell_type": "markdown",
   "metadata": {},
   "source": [
    "In this lab, we will use a set of music samples from the website:\n",
    "\n",
    "http://theremin.music.uiowa.edu\n",
    "\n",
    "This website has a great set of samples for audio processing.\n",
    "\n",
    "We will use the `wget` command to retrieve one file to our Google Colab storage area. (We can run `wget` and many other basic Linux commands in Colab by prefixing them with a `!` or `%`.)"
   ],
   "id": "015c1c97-17ba-4b44-95f1-d4e875ca9e32"
  },
  {
   "cell_type": "code",
   "execution_count": null,
   "metadata": {},
   "outputs": [],
   "source": [
    "!wget \"http://theremin.music.uiowa.edu/sound files/MIS/Woodwinds/sopranosaxophone/SopSax.Vib.pp.C6Eb6.aiff\""
   ],
   "id": "45df7738-fb84-4729-a216-6d03fb1bfe6a"
  },
  {
   "cell_type": "markdown",
   "metadata": {},
   "source": [
    "Now, if you click on the small folder icon on the far left of the Colab interface, you can see the files in your Colab storage. You should see the “SopSax.Vib.pp.C6Eb6.aiff” file appear there.\n",
    "\n",
    "In order to listen to this file, we’ll first convert it into the `wav` format. Again, we’ll use a magic command to run a basic command-line utility: `ffmpeg`, a powerful tool for working with audio and video files."
   ],
   "id": "ee42c677-44cb-41d5-8ad6-8c9766be328c"
  },
  {
   "cell_type": "code",
   "execution_count": null,
   "metadata": {},
   "outputs": [],
   "source": [
    "aiff_file = 'SopSax.Vib.pp.C6Eb6.aiff'\n",
    "wav_file = 'SopSax.Vib.pp.C6Eb6.wav'\n",
    "\n",
    "!ffmpeg -y -i $aiff_file $wav_file"
   ],
   "id": "b5d4ef79-91c8-4bc9-a375-46afa09dc391"
  },
  {
   "cell_type": "markdown",
   "metadata": {},
   "source": [
    "Now, we can play the file directly from the Jupyter Notebook interface. If you press the ▶️ button, you will hear a soprano saxaphone (with vibrato) playing four notes (C, C#, D, Eb)."
   ],
   "id": "80314be5-2235-4600-bf4b-5b743c8f371e"
  },
  {
   "cell_type": "code",
   "execution_count": null,
   "metadata": {},
   "outputs": [],
   "source": [
    "import IPython.display as ipd\n",
    "ipd.Audio(wav_file)"
   ],
   "id": "d3cd3801-403f-4ea7-ae6a-42997bd14143"
  },
  {
   "cell_type": "markdown",
   "metadata": {},
   "source": [
    "Next, use `librosa` command `librosa.load` to read the audio file with filename `audio_file` and get the samples `y` and sample rate `sr`."
   ],
   "id": "bab1a75d-5e5a-4df3-ab1f-2047ab449218"
  },
  {
   "cell_type": "code",
   "execution_count": null,
   "metadata": {},
   "outputs": [],
   "source": [
    "y, sr = librosa.load(aiff_file)"
   ],
   "id": "7f3e005b-589a-4436-beeb-727ba7ef9352"
  },
  {
   "cell_type": "markdown",
   "metadata": {},
   "source": [
    "Feature engineering from audio files is an entire subject in its own right. A commonly used set of features are called the Mel Frequency Cepstral Coefficients (MFCCs). These are derived from the so-called mel spectrogram, which is something like a regular spectrogram, but the power and frequency are represented in log scale, which more naturally aligns with human perceptual processing.\n",
    "\n",
    "You can run the code below to display the mel spectrogram from the audio sample.\n",
    "\n",
    "You can easily see the four notes played in the audio track. You also see the ‘harmonics’ of each notes, which are other tones at integer multiples of the fundamental frequency of each note."
   ],
   "id": "df712601-cb02-4381-a441-db618e5c460d"
  },
  {
   "cell_type": "code",
   "execution_count": null,
   "metadata": {},
   "outputs": [],
   "source": [
    "S = librosa.feature.melspectrogram(y=y, sr=sr, n_mels=128, fmax=8000)\n",
    "librosa.display.specshow(librosa.amplitude_to_db(S),\n",
    "                         y_axis='mel', fmax=8000, x_axis='time')\n",
    "plt.colorbar(format='%+2.0f dB')\n",
    "plt.title('Mel spectrogram')\n",
    "plt.tight_layout()"
   ],
   "id": "3adfb629-2fe8-4bb7-be73-b546859ad5f8"
  },
  {
   "cell_type": "markdown",
   "metadata": {},
   "source": [
    "## Downloading the Data\n",
    "\n",
    "Using the MFCC features described above, [Prof. Juan Bello](http://steinhardt.nyu.edu/faculty/Juan_Pablo_Bello) at NYU Steinhardt and his former PhD student Eric Humphrey have created a complete data set that can used for instrument classification. Essentially, they collected a number of data files from the website above. For each audio file, the segmented the track into notes and then extracted 120 MFCCs for each note. The goal is to recognize the instrument from the 120 MFCCs. The process of feature extraction is quite involved. So, we will just use their processed data."
   ],
   "id": "01796f9f-d5ab-431f-809b-93301e2aa130"
  },
  {
   "cell_type": "markdown",
   "metadata": {},
   "source": [
    "To retrieve their data, visit\n",
    "\n",
    "<https://github.com/marl/dl4mir-tutorial/tree/master>\n",
    "\n",
    "and note the password listed on that page. Click on the link for “Instrument Dataset”, enter the password, click on `instrument_dataset` to open the folder, and download it. (You can “direct download” straight from this site, you don’t need a Dropbox account.) Depending on your laptop OS and on how you download the data, you may need to “unzip” or otherwise extract the four `.npy` files from an archive.\n",
    "\n",
    "Now create a new folder (named `instrument_dataset`) on the Chameleon server for storing the dataset."
   ],
   "id": "e5c5ce5d-8943-4e43-bdb8-f3751fc409f9"
  },
  {
   "cell_type": "code",
   "execution_count": null,
   "metadata": {},
   "outputs": [],
   "source": [
    "!mkdir instrument_dataset/"
   ],
   "id": "50d344a6-e673-4f57-803c-237661b6e8c2"
  },
  {
   "cell_type": "markdown",
   "metadata": {},
   "source": [
    "Then, upload the files to Chameleon server inside the `instrument_dataset` folder: click on the folder icon on the left to see your storage, if it isn’t already open, and then click on “Upload”.\n",
    "\n",
    "🛑 Wait until *all* uploads have completed. To check if all the files have been uploaded successfully, check the size of the `instrument_dataset` on the server using the following cell. If all uploads are successful, the folder size should be 75M. 🛑"
   ],
   "id": "72e91451-f5fb-42e9-979b-a435b8cc35b9"
  },
  {
   "cell_type": "code",
   "execution_count": null,
   "metadata": {},
   "outputs": [],
   "source": [
    "!du -sh instrument_dataset"
   ],
   "id": "6ce485ca-7ec5-4e42-9d15-6d09323ff0fb"
  },
  {
   "cell_type": "markdown",
   "metadata": {},
   "source": [
    "Then, load the files with:"
   ],
   "id": "1e905acc-dc58-4ff4-b57c-756edb24a232"
  },
  {
   "cell_type": "code",
   "execution_count": null,
   "metadata": {},
   "outputs": [],
   "source": [
    "Xtr = np.load('instrument_dataset/uiowa_train_data.npy')\n",
    "ytr = np.load('instrument_dataset/uiowa_train_labels.npy')\n",
    "Xts = np.load('instrument_dataset/uiowa_test_data.npy')\n",
    "yts = np.load('instrument_dataset/uiowa_test_labels.npy')"
   ],
   "id": "3ea23d4e-5a3c-4d2b-92fd-84967de7781b"
  },
  {
   "cell_type": "markdown",
   "metadata": {},
   "source": [
    "Examine the data you have just loaded in:\n",
    "\n",
    "-   How many training samples are there?\n",
    "-   How many test samples are there?\n",
    "-   What is the number of features for each sample?\n",
    "-   How many classes (i.e. instruments) are there?\n",
    "\n",
    "Write some code to find these values and print them."
   ],
   "id": "524d54a9-d72f-44c9-9e98-db16e6eff70d"
  },
  {
   "cell_type": "code",
   "execution_count": null,
   "metadata": {},
   "outputs": [],
   "source": [
    "# TODO -  get basic details of the data\n",
    "# compute these values from the data, don't hard-code them\n",
    "n_tr    = \n",
    "n_ts    = \n",
    "n_feat  = \n",
    "n_class = "
   ],
   "id": "c7469c76-68e8-4c35-8c16-bac28dae7c54"
  },
  {
   "cell_type": "code",
   "execution_count": null,
   "metadata": {},
   "outputs": [],
   "source": [
    "# now print those details\n",
    "print(\"Num training= %d\" % n_tr)\n",
    "print(\"Num test=     %d\" % n_ts)\n",
    "print(\"Num features= %d\" % n_feat)\n",
    "print(\"Num classes=  %d\" % n_class)"
   ],
   "id": "5daae344-0cbd-4a35-b4d0-5ac6196f23d9"
  },
  {
   "cell_type": "code",
   "execution_count": null,
   "metadata": {},
   "outputs": [],
   "source": [
    "# shuffle the training set\n",
    "# (when loaded in, samples are ordered by class)\n",
    "p = np.random.permutation(Xtr.shape[0])\n",
    "Xtr = Xtr[p,:]\n",
    "ytr = ytr[p]"
   ],
   "id": "119c9561-f5d4-42b3-ab6b-3407fb938520"
  },
  {
   "cell_type": "markdown",
   "metadata": {},
   "source": [
    "Then, standardize the training and test data, `Xtr` and `Xts`, by removing the mean of each feature and scaling to unit variance.\n",
    "\n",
    "You can do this manually, or using `sklearn`’s [StandardScaler](https://scikit-learn.org/stable/modules/generated/sklearn.preprocessing.StandardScaler.html).\n",
    "\n",
    "Although you will scale both the training and test data, you should make sure that both are scaled according to the mean and variance statistics from the *training data only*.\n",
    "\n",
    "<small>Standardizing the input data can make the gradient descent work better, by making the loss function “easier” to descend.</small>"
   ],
   "id": "630c7b56-3042-4109-a3b4-7bc09a71d88d"
  },
  {
   "cell_type": "code",
   "execution_count": null,
   "metadata": {},
   "outputs": [],
   "source": [
    "from sklearn.preprocessing import StandardScaler"
   ],
   "id": "528ba154-7e53-4771-a400-4f77125e9d6b"
  },
  {
   "cell_type": "code",
   "execution_count": null,
   "metadata": {},
   "outputs": [],
   "source": [
    "scaler = StandardScaler()"
   ],
   "id": "ce4eee8c-4c36-4e9b-909f-34decb869d49"
  },
  {
   "cell_type": "code",
   "execution_count": null,
   "metadata": {},
   "outputs": [],
   "source": [
    "# TODO - Standardize the training and test data\n",
    "Xtr_scale = \n",
    "Xts_scale = "
   ],
   "id": "bb1ac87e-0835-4b8b-9564-a3a57fad031b"
  },
  {
   "cell_type": "markdown",
   "metadata": {},
   "source": [
    "Saving the standardized training and test data features for further use."
   ],
   "id": "40171e60-d303-4e03-b975-3f80f1cd37c9"
  },
  {
   "cell_type": "code",
   "execution_count": null,
   "metadata": {},
   "outputs": [],
   "source": [
    "np.save('instrument_dataset/uiowa_std_scale_train_data.npy',Xtr_scale)\n",
    "np.save('instrument_dataset/uiowa_std_scale_test_data.npy',Xts_scale)\n",
    "np.save('instrument_dataset/uiowa_permuted_train_labels.npy',ytr)"
   ],
   "id": "95618bd2-4f66-473a-8224-98cf638059ac"
  }
 ],
 "nbformat": 4,
 "nbformat_minor": 5,
 "metadata": {}
}
