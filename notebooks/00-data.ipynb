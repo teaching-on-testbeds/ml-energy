{
 "cells": [
  {
   "cell_type": "markdown",
   "metadata": {},
   "source": [
    "# Load data for music classification\n",
    "\n",
    "**Note**: This experiment is designed to run on a Chameleon **GPU**\n",
    "runtime. You should use a GPU runtime launched on the Chameleon server\n",
    "to work on this assignment. Refer to the `reserve.ipynb` notebook for\n",
    "instructions on how to reserve resources and launch an instance on the\n",
    "Chameleon server.\n",
    "\n",
    "In this assignment, we will look at an audio classification problem.\n",
    "Given a sample of music, we want to determine which instrument\n",
    "(e.g. trumpet, violin, piano) is playing.\n",
    "\n",
    "*This assignment is closely based on one by Sundeep Rangan, from his\n",
    "[IntroML GitHub repo](https://github.com/sdrangan/introml/).*"
   ],
   "id": "efcd5235-ee55-460e-b4f4-eeff4cdf8639"
  },
  {
   "cell_type": "code",
   "execution_count": null,
   "metadata": {},
   "outputs": [],
   "source": [
    "import numpy as np\n",
    "import matplotlib\n",
    "import matplotlib.pyplot as plt\n",
    "%matplotlib inline"
   ],
   "id": "f28c41f6-1013-48f9-82e9-1394e626c5e4"
  },
  {
   "cell_type": "markdown",
   "metadata": {},
   "source": [
    "## Audio Feature Extraction with Librosa\n",
    "\n",
    "The key to audio classification is to extract the correct features. The\n",
    "`librosa` package in python has a rich set of methods for extracting the\n",
    "features of audio samples commonly used in machine learning tasks, such\n",
    "as speech recognition and sound classification."
   ],
   "id": "d4074b66-79f3-41cc-a466-2f58149bafde"
  },
  {
   "cell_type": "code",
   "execution_count": null,
   "metadata": {},
   "outputs": [],
   "source": [
    "import librosa\n",
    "import librosa.display\n",
    "import librosa.feature"
   ],
   "id": "bc90ba4b-236a-480e-a352-4b83173e1f1a"
  },
  {
   "cell_type": "markdown",
   "metadata": {},
   "source": [
    "In this lab, we will use a set of music samples from the website:\n",
    "\n",
    "http://theremin.music.uiowa.edu\n",
    "\n",
    "This website has a great set of samples for audio processing.\n",
    "\n",
    "We will use the `wget` command to retrieve one file to our Google Colab\n",
    "storage area. (We can run `wget` and many other basic Linux commands in\n",
    "Colab by prefixing them with a `!` or `%`.)"
   ],
   "id": "43a7fd2d-4fd2-4b6a-8542-c929c3a40eeb"
  },
  {
   "cell_type": "code",
   "execution_count": null,
   "metadata": {},
   "outputs": [],
   "source": [
    "!wget \"http://theremin.music.uiowa.edu/sound files/MIS/Woodwinds/sopranosaxophone/SopSax.Vib.pp.C6Eb6.aiff\""
   ],
   "id": "d3495243-87de-4ddd-a3c9-97a7789472e9"
  },
  {
   "cell_type": "markdown",
   "metadata": {},
   "source": [
    "Now, if you click on the small folder icon on the far left of the Colab\n",
    "interface, you can see the files in your Colab storage. You should see\n",
    "the “SopSax.Vib.pp.C6Eb6.aiff” file appear there.\n",
    "\n",
    "In order to listen to this file, we’ll first convert it into the `wav`\n",
    "format. Again, we’ll use a magic command to run a basic command-line\n",
    "utility: `ffmpeg`, a powerful tool for working with audio and video\n",
    "files."
   ],
   "id": "5c5a6190-579a-4817-b522-d9bd5af95311"
  },
  {
   "cell_type": "code",
   "execution_count": null,
   "metadata": {},
   "outputs": [],
   "source": [
    "aiff_file = 'SopSax.Vib.pp.C6Eb6.aiff'\n",
    "wav_file = 'SopSax.Vib.pp.C6Eb6.wav'\n",
    "\n",
    "!ffmpeg -y -i $aiff_file $wav_file"
   ],
   "id": "094fbbc6-e6fe-4d94-b90f-d50e9d5e632f"
  },
  {
   "cell_type": "markdown",
   "metadata": {},
   "source": [
    "Now, we can play the file directly from the Jupyter Notebook interface.\n",
    "If you press the ▶️ button, you will hear a soprano saxaphone (with\n",
    "vibrato) playing four notes (C, C#, D, Eb)."
   ],
   "id": "378a243e-4090-4f8a-a768-890248981fdf"
  },
  {
   "cell_type": "code",
   "execution_count": null,
   "metadata": {},
   "outputs": [],
   "source": [
    "import IPython.display as ipd\n",
    "ipd.Audio(wav_file)"
   ],
   "id": "7afbd662-51ce-42b1-9cf7-e28f40d7ee7a"
  },
  {
   "cell_type": "markdown",
   "metadata": {},
   "source": [
    "Next, use `librosa` command `librosa.load` to read the audio file with\n",
    "filename `audio_file` and get the samples `y` and sample rate `sr`."
   ],
   "id": "32e8950b-e410-426e-8414-76024e1f6c8a"
  },
  {
   "cell_type": "code",
   "execution_count": null,
   "metadata": {},
   "outputs": [],
   "source": [
    "y, sr = librosa.load(aiff_file)"
   ],
   "id": "59c47260-6b6d-45f5-a8b8-75bc5d090aef"
  },
  {
   "cell_type": "markdown",
   "metadata": {},
   "source": [
    "Feature engineering from audio files is an entire subject in its own\n",
    "right. A commonly used set of features are called the Mel Frequency\n",
    "Cepstral Coefficients (MFCCs). These are derived from the so-called mel\n",
    "spectrogram, which is something like a regular spectrogram, but the\n",
    "power and frequency are represented in log scale, which more naturally\n",
    "aligns with human perceptual processing.\n",
    "\n",
    "You can run the code below to display the mel spectrogram from the audio\n",
    "sample.\n",
    "\n",
    "You can easily see the four notes played in the audio track. You also\n",
    "see the ‘harmonics’ of each notes, which are other tones at integer\n",
    "multiples of the fundamental frequency of each note."
   ],
   "id": "cf61f150-1242-4c98-ad3b-3a3901f7c0db"
  },
  {
   "cell_type": "code",
   "execution_count": null,
   "metadata": {},
   "outputs": [],
   "source": [
    "S = librosa.feature.melspectrogram(y=y, sr=sr, n_mels=128, fmax=8000)\n",
    "librosa.display.specshow(librosa.amplitude_to_db(S),\n",
    "                         y_axis='mel', fmax=8000, x_axis='time')\n",
    "plt.colorbar(format='%+2.0f dB')\n",
    "plt.title('Mel spectrogram')\n",
    "plt.tight_layout()"
   ],
   "id": "5bbd24ef-4a2c-4b4a-9040-7b4c84de9797"
  },
  {
   "cell_type": "markdown",
   "metadata": {},
   "source": [
    "## Downloading the Data\n",
    "\n",
    "Using the MFCC features described above, [Prof. Juan\n",
    "Bello](http://steinhardt.nyu.edu/faculty/Juan_Pablo_Bello) at NYU\n",
    "Steinhardt and his former PhD student Eric Humphrey have created a\n",
    "complete data set that can used for instrument classification.\n",
    "Essentially, they collected a number of data files from the website\n",
    "above. For each audio file, the segmented the track into notes and then\n",
    "extracted 120 MFCCs for each note. The goal is to recognize the\n",
    "instrument from the 120 MFCCs. The process of feature extraction is\n",
    "quite involved. So, we will just use their processed data."
   ],
   "id": "c3e076cd-1845-4a84-b6ca-7accaabe6496"
  },
  {
   "cell_type": "markdown",
   "metadata": {},
   "source": [
    "To retrieve their data, visit\n",
    "\n",
    "<https://github.com/marl/dl4mir-tutorial/tree/master>\n",
    "\n",
    "and note the password listed on that page. Click on the link for\n",
    "“Instrument Dataset”, enter the password, click on `instrument_dataset`\n",
    "to open the folder, and download it. (You can “direct download” straight\n",
    "from this site, you don’t need a Dropbox account.) Depending on your\n",
    "laptop OS and on how you download the data, you may need to “unzip” or\n",
    "otherwise extract the four `.npy` files from an archive.\n",
    "\n",
    "Now create a new folder (named `instrument_dataset`) on the Chameleon\n",
    "server for storing the dataset."
   ],
   "id": "191e941c-3ecb-46a1-9585-0c3e0f261020"
  },
  {
   "cell_type": "code",
   "execution_count": null,
   "metadata": {},
   "outputs": [],
   "source": [
    "!mkdir instrument_dataset/"
   ],
   "id": "9c345cee-82e9-4bde-b913-55d15db647eb"
  },
  {
   "cell_type": "markdown",
   "metadata": {},
   "source": [
    "Then, upload the files to Chamelen server inside the\n",
    "`instrument_dataset` folder: click on the folder icon on the left to see\n",
    "your storage, if it isn’t already open, and then click on “Upload”.\n",
    "\n",
    "🛑 Wait until *all* uploads have completed and the “Last Modified”\n",
    "attribute of the file *stops updating* indicating uploads in progress\n",
    "are *complete*. (The training data especially will take some time to\n",
    "upload.) 🛑"
   ],
   "id": "918e7499-7e6e-4e80-a62b-775296d1986a"
  },
  {
   "cell_type": "markdown",
   "metadata": {},
   "source": [
    "Then, load the files with:"
   ],
   "id": "bb6d9cdd-e873-4a24-bd46-fe15ef7fc97a"
  },
  {
   "cell_type": "code",
   "execution_count": null,
   "metadata": {},
   "outputs": [],
   "source": [
    "Xtr = np.load('instrument_dataset/uiowa_train_data.npy')\n",
    "ytr = np.load('instrument_dataset/uiowa_train_labels.npy')\n",
    "Xts = np.load('instrument_dataset/uiowa_test_data.npy')\n",
    "yts = np.load('instrument_dataset/uiowa_test_labels.npy')"
   ],
   "id": "09ccdd6c-e5e9-4a3c-bf1e-388e78efdc1f"
  },
  {
   "cell_type": "markdown",
   "metadata": {},
   "source": [
    "Examine the data you have just loaded in:\n",
    "\n",
    "-   How many training samples are there?\n",
    "-   How many test samples are there?\n",
    "-   What is the number of features for each sample?\n",
    "-   How many classes (i.e. instruments) are there?\n",
    "\n",
    "Write some code to find these values and print them."
   ],
   "id": "af513515-918a-48fb-ae8a-d70ec10d70e6"
  },
  {
   "cell_type": "code",
   "execution_count": null,
   "metadata": {},
   "outputs": [],
   "source": [
    "# TODO -  get basic details of the data\n",
    "# compute these values from the data, don't hard-code them\n",
    "n_tr    = Xtr.shape[0]\n",
    "n_ts    = Xts.shape[0]\n",
    "n_feat  = Xtr.shape[1]\n",
    "n_class = len(np.unique(ytr))"
   ],
   "id": "1c27bd8c-28ab-4d71-99c4-2b4fe43933e6"
  },
  {
   "cell_type": "code",
   "execution_count": null,
   "metadata": {},
   "outputs": [],
   "source": [
    "# now print those details\n",
    "print(\"Num training= %d\" % n_tr)\n",
    "print(\"Num test=     %d\" % n_ts)\n",
    "print(\"Num features= %d\" % n_feat)\n",
    "print(\"Num classes=  %d\" % n_class)"
   ],
   "id": "1f4d4fa6-89a9-4e18-93fb-8a20b80e75d3"
  },
  {
   "cell_type": "code",
   "execution_count": null,
   "metadata": {},
   "outputs": [],
   "source": [
    "# shuffle the training set\n",
    "# (when loaded in, samples are ordered by class)\n",
    "p = np.random.permutation(Xtr.shape[0])\n",
    "Xtr = Xtr[p,:]\n",
    "ytr = ytr[p]"
   ],
   "id": "55282e94-c4f5-4154-be4e-0abf6e9323cf"
  },
  {
   "cell_type": "markdown",
   "metadata": {},
   "source": [
    "Then, standardize the training and test data, `Xtr` and `Xts`, by\n",
    "removing the mean of each feature and scaling to unit variance.\n",
    "\n",
    "You can do this manually, or using `sklearn`’s\n",
    "[StandardScaler](https://scikit-learn.org/stable/modules/generated/sklearn.preprocessing.StandardScaler.html).\n",
    "(For an example showing how to use a `StandardScaler`, you can refer to\n",
    "the notebook on regularization.)\n",
    "\n",
    "Although you will scale both the training and test data, you should make\n",
    "sure that both are scaled according to the mean and variance statistics\n",
    "from the *training data only*.\n",
    "\n",
    "<small>Standardizing the input data can make the gradient descent work\n",
    "better, by making the loss function “easier” to descend.</small>"
   ],
   "id": "755dd842-72d8-43b4-851c-ece701b34b1c"
  },
  {
   "cell_type": "code",
   "execution_count": null,
   "metadata": {},
   "outputs": [],
   "source": [
    "from sklearn.preprocessing import StandardScaler"
   ],
   "id": "091ce23a-6d1b-43de-9e0a-fb633f74e8bd"
  },
  {
   "cell_type": "code",
   "execution_count": null,
   "metadata": {},
   "outputs": [],
   "source": [
    "scaler = StandardScaler()"
   ],
   "id": "1bd7ca62-8810-47a3-ad70-b9171452155d"
  },
  {
   "cell_type": "code",
   "execution_count": null,
   "metadata": {},
   "outputs": [],
   "source": [
    "# TODO - Standardize the training and test data\n",
    "Xtr_scale = scaler.fit_transform(Xtr)\n",
    "Xts_scale = scaler.transform(Xts)"
   ],
   "id": "f613bf2b-0bad-47e2-91f1-85e926cb8f6f"
  },
  {
   "cell_type": "markdown",
   "metadata": {},
   "source": [
    "Saving the standardized training and test data features for further use."
   ],
   "id": "274b2238-5f4e-4fe3-9487-730cb07858b4"
  },
  {
   "cell_type": "code",
   "execution_count": null,
   "metadata": {},
   "outputs": [],
   "source": [
    "np.save('instrument_dataset/uiowa_std_scale_train_data.npy',Xtr_scale)\n",
    "np.save('instrument_dataset/uiowa_std_scale_test_data.npy',Xts_scale)\n",
    "np.save('instrument_dataset/uiowa_permuted_train_labels.npy',ytr)"
   ],
   "id": "b15200c5-a71a-49ba-b0cb-ca6859db2213"
  }
 ],
 "nbformat": 4,
 "nbformat_minor": 5,
 "metadata": {}
}
