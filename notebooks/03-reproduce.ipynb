{
 "cells": [
  {
   "cell_type": "markdown",
   "id": "130c258d-24e1-499f-ae93-202bc56953b9",
   "metadata": {},
   "source": [
    "## Visualizing Energy Time Tradeoff"
   ]
  },
  {
   "cell_type": "code",
   "execution_count": null,
   "id": "955bc2f7-7774-434c-88d3-d1e15a756416",
   "metadata": {},
   "outputs": [],
   "source": [
    "import argparse\n",
    "import os\n",
    "import random\n",
    "import time\n",
    "from enum import Enum"
   ]
  },
  {
   "cell_type": "code",
   "execution_count": null,
   "id": "20e91c47-06fb-4c9e-ab8a-600f7f7e8520",
   "metadata": {},
   "outputs": [],
   "source": [
    "import torch\n",
    "import torch.nn as nn\n",
    "import torch.nn.parallel\n",
    "import torch.backends.cudnn as cudnn\n",
    "import torch.distributed as dist\n",
    "import torch.optim\n",
    "from torch.optim.lr_scheduler import StepLR\n",
    "import torch.utils.data\n",
    "from torch.utils.data import DataLoader\n",
    "import torch.utils.data.distributed\n",
    "import torchvision.transforms as transforms\n",
    "import torchvision.datasets as datasets\n",
    "import torchvision.models as models"
   ]
  },
  {
   "cell_type": "code",
   "execution_count": null,
   "id": "36884f33-5b02-43ce-80f1-85c3f536c164",
   "metadata": {},
   "outputs": [],
   "source": [
    "from zeus.monitor import ZeusMonitor\n",
    "from zeus.optimizer import GlobalPowerLimitOptimizer\n",
    "from zeus.optimizer.power_limit import MaxSlowdownConstraint\n",
    "from zeus.util.env import get_env"
   ]
  },
  {
   "cell_type": "markdown",
   "id": "9c979e54-835b-4b38-bae4-e1362721b429",
   "metadata": {},
   "source": [
    "## Loading Data\n",
    "\n",
    "First, download the imagenet dataset"
   ]
  },
  {
   "cell_type": "code",
   "execution_count": null,
   "id": "d6c68357-d68b-4239-856e-118a41c9237f",
   "metadata": {},
   "outputs": [],
   "source": [
    "#Downloading the train dataset\n",
    "!wget https://image-net.org/data/ILSVRC/2012/ILSVRC2012_img_train.tar\n",
    "#Downloading the validataion dataset\n",
    "!wget https://image-net.org/data/ILSVRC/2012/ILSVRC2012_img_val.tar\n",
    "#Download pytorch's official script to pre-process data\n",
    "!wget https://raw.githubusercontent.com/pytorch/examples/main/imagenet/extract_ILSVRC.sh"
   ]
  },
  {
   "cell_type": "code",
   "execution_count": null,
   "id": "d949509e-a209-49c7-a4d4-ab9c97727217",
   "metadata": {},
   "outputs": [],
   "source": [
    "!. ./extract_ILSVRC.sh"
   ]
  },
  {
   "cell_type": "markdown",
   "id": "b32b24b9-674d-4c91-a096-f25303e25b2f",
   "metadata": {},
   "source": [
    "Define loaders for train and val data"
   ]
  },
  {
   "cell_type": "code",
   "execution_count": null,
   "id": "b2e53657-556c-4ff9-949b-d7a2bebf398d",
   "metadata": {},
   "outputs": [],
   "source": [
    "traindir = os.path.join('./', \"train\")\n",
    "valdir = os.path.join('./', \"val\")\n",
    "normalize = transforms.Normalize(mean=[0.485, 0.456, 0.406], std=[0.229, 0.224, 0.225])"
   ]
  },
  {
   "cell_type": "code",
   "execution_count": null,
   "id": "988897ef-d373-42f6-99ee-7002b90e0bc8",
   "metadata": {},
   "outputs": [],
   "source": [
    "train_dataset = datasets.ImageFolder(traindir,transforms.Compose(\n",
    "            [transforms.RandomResizedCrop(224),\n",
    "             transforms.RandomHorizontalFlip(),\n",
    "             transforms.ToTensor(),\n",
    "             normalize,]),)\n",
    "\n",
    "val_dataset = datasets.ImageFolder(\n",
    "        valdir,\n",
    "        transforms.Compose(\n",
    "            [transforms.Resize(256),\n",
    "            transforms.CenterCrop(224),\n",
    "            transforms.ToTensor(),\n",
    "            normalize,]),)"
   ]
  },
  {
   "cell_type": "code",
   "execution_count": null,
   "id": "97130cd2-66c7-44ff-ae75-2320933fff7f",
   "metadata": {},
   "outputs": [],
   "source": [
    "train_loader = DataLoader(\n",
    "        train_dataset,\n",
    "        batch_size=args.batch_size,\n",
    "        shuffle=True,\n",
    "        num_workers=args.workers,\n",
    "        pin_memory=True,\n",
    "    )\n",
    "val_loader = DataLoader(\n",
    "    val_dataset,\n",
    "    batch_size=args.batch_size,\n",
    "    shuffle=False,\n",
    "    num_workers=args.workers,\n",
    "    pin_memory=True,\n",
    ")"
   ]
  },
  {
   "cell_type": "markdown",
   "id": "aa119dbd-a861-45f6-b334-2121d0a7a25a",
   "metadata": {},
   "source": [
    "## Define the model"
   ]
  },
  {
   "cell_type": "code",
   "execution_count": null,
   "id": "923a5b4b-e528-4666-962a-a358ed90f38f",
   "metadata": {},
   "outputs": [],
   "source": [
    "ARCH = 'resnet50' #Defining the architecture to be used\n",
    "model = models.__dict__[args.arch]()\n",
    "\n",
    "torch.cuda.set_device(args.gpu)\n",
    "model.cuda(args.gpu)"
   ]
  },
  {
   "cell_type": "markdown",
   "id": "e19c2d6a-290d-42e5-9b6e-090a0c3461d0",
   "metadata": {},
   "source": [
    "Set the criteria to Cross-Entropy loss:"
   ]
  },
  {
   "cell_type": "code",
   "execution_count": null,
   "id": "f1d6e660-c939-416f-a6b3-a0986ad891a3",
   "metadata": {},
   "outputs": [],
   "source": [
    "criterion = nn.CrossEntropyLoss().cuda(args.gpu)\n",
    "optimizer = torch.optim.Adadelta(\n",
    "    model.parameters(),\n",
    "    lr = 0.1\n",
    ")\n",
    "scheduler = StepLR(optimizer, step_size=30, gamma=0.1)"
   ]
  },
  {
   "cell_type": "markdown",
   "id": "d9f3ad7b-baa7-4786-a540-258c1397ce73",
   "metadata": {},
   "source": [
    "We’ll now train the model; We stop the training when either a minimum training accuracy is reached or the max number of epochs have taken place."
   ]
  },
  {
   "cell_type": "code",
   "execution_count": null,
   "id": "93deaf38-033f-440f-9764-9f7de65a0be4",
   "metadata": {},
   "outputs": [],
   "source": [
    "MAX_EPOCHS = 100\n",
    "MIN_ACC = 0.65"
   ]
  },
  {
   "cell_type": "code",
   "execution_count": null,
   "id": "b6bebe04-1313-4d86-a9e0-a8da7ab185c0",
   "metadata": {},
   "outputs": [],
   "source": [
    "monitor = ZeusMonitor(gpu_indices=[0])\n",
    "train_acc,train_samples = 0,0\n",
    "\n",
    "for epoch in range(MAX_EPOCHS):\n",
    "\n",
    "    ##Train the model for one epoch\n",
    "    model.train()\n",
    "\n",
    "    for i, (images, target) in enumerate(train_loader):\n",
    "\n",
    "        # Load data to GPU\n",
    "        images = images.cuda(args.gpu, non_blocking=True)\n",
    "        target = target.cuda(args.gpu, non_blocking=True)\n",
    "\n",
    "        # measure data loading time\n",
    "\n",
    "        # compute output\n",
    "        output = model(images)\n",
    "        loss = criterion(output, target)\n",
    "\n",
    "        # measure accuracy and record loss\n",
    "        acc1 = accuracy(output, target, topk=(1))\n",
    "        train_accuracy = (train_accuracy*train_samples + acc1*images.shape[0])/(train_samples+images.shape[0])\n",
    "        train_samples += images.shape[0]\n",
    "        \n",
    "        losses.update(loss.item(), images.size(0))            \n",
    "\n",
    "        # compute gradient and do SGD step\n",
    "        optimizer.zero_grad()\n",
    "        loss.backward()\n",
    "        optimizer.step()\n",
    "\n",
    "    if(train_accuracy>MIN_ACC):\n",
    "        break\n",
    "\n",
    "    scheduler.step()\n",
    "\n",
    "    measurement = monitor.end_window(\"model_train\")"
   ]
  },
  {
   "cell_type": "markdown",
   "id": "3864301e-621f-4b98-be34-808f4699e323",
   "metadata": {},
   "source": [
    "# Plotting Energy Consumption"
   ]
  },
  {
   "cell_type": "code",
   "execution_count": null,
   "id": "859f2f4f-a8bc-426d-b6fb-918240571c1b",
   "metadata": {},
   "outputs": [],
   "source": [
    "energy = measurement.total_energy\n",
    "time = measurement.time\n",
    "\n",
    "plt.scatter(energy, time)\n",
    "plt.xlabel('Training Time (s)')\n",
    "plt.ylabel('Energy Consumption (J)')"
   ]
  }
 ],
 "metadata": {
  "language_info": {
   "name": "python"
  }
 },
 "nbformat": 4,
 "nbformat_minor": 5
}
