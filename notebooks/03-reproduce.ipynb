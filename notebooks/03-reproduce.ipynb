{
 "cells": [
  {
   "cell_type": "markdown",
   "metadata": {},
   "source": [
    "## Visualizing Energy Time Tradeoff\n",
    "\n",
    "In this notebook, we’ll attempt to visualize the relation of energy consumption during training and training time with varying batch size and GPU power limit. We reproduce Fig. 16 (d) of the [Zeus](https://www.usenix.org/system/files/nsdi23-you.pdf) paper to study is relation."
   ]
  },
  {
   "cell_type": "code",
   "execution_count": null,
   "metadata": {},
   "outputs": [],
   "source": [
    "import os\n",
    "import time\n",
    "import random\n",
    "from matplotlib import pyplot as plt"
   ]
  },
  {
   "cell_type": "code",
   "execution_count": null,
   "metadata": {},
   "outputs": [],
   "source": [
    "import torch\n",
    "import torch.nn as nn\n",
    "from torch.optim.lr_scheduler import StepLR\n",
    "from torch.utils.data import DataLoader\n",
    "import torchvision.transforms as transforms\n",
    "import torchvision.datasets as datasets\n",
    "import torchvision.models as models\n",
    "import pynvml"
   ]
  },
  {
   "cell_type": "code",
   "execution_count": null,
   "metadata": {},
   "outputs": [],
   "source": [
    "from zeus.monitor import ZeusMonitor\n",
    "from zeus.optimizer import GlobalPowerLimitOptimizer\n",
    "from zeus.optimizer.power_limit import MaxSlowdownConstraint\n",
    "from zeus.util.env import get_env"
   ]
  },
  {
   "cell_type": "markdown",
   "metadata": {},
   "source": [
    "### Loading the train and test Data\n",
    "\n",
    "We would be using the Imagenet dataset for this experiment. The total datasize of imagenet is approximately 150Gbs. Downloading this set on the server takes a significant amount of time (4 - 6 hours) so it is advised to start with the notebook early."
   ]
  },
  {
   "cell_type": "code",
   "execution_count": null,
   "metadata": {},
   "outputs": [],
   "source": [
    "#Downloading the train dataset (Takes ~ 4 hours)\n",
    "!wget https://image-net.org/data/ILSVRC/2012/ILSVRC2012_img_train.tar"
   ]
  },
  {
   "cell_type": "code",
   "execution_count": null,
   "metadata": {},
   "outputs": [],
   "source": [
    "#Downloading the validataion dataset (Takes ~ 6 minutes)\n",
    "!wget https://image-net.org/data/ILSVRC/2012/ILSVRC2012_img_val.tar"
   ]
  },
  {
   "cell_type": "code",
   "execution_count": null,
   "metadata": {},
   "outputs": [],
   "source": [
    "#Downloading the imagenet devkit dataset for pytorch to pre-process dataset (Takes ~ 10 seconds)\n",
    "!wget https://image-net.org/data/ILSVRC/2012/ILSVRC2012_devkit_t12.tar.gz"
   ]
  },
  {
   "cell_type": "markdown",
   "metadata": {},
   "source": [
    "Define data tranformations that will be applied to the training and test dataset. We perform the following tranformations:\n",
    "\n",
    "-   Cropping each image to 224\\*224\n",
    "-   Augmenting the dataset with flipping images horizontly\n",
    "-   Tranforming image array to a tensor for it to be torch compatible\n",
    "-   Normalize the train and test dataet"
   ]
  },
  {
   "cell_type": "code",
   "execution_count": null,
   "metadata": {},
   "outputs": [],
   "source": [
    "normalize = transforms.Normalize(mean=[0.485, 0.456, 0.406], std=[0.229, 0.224, 0.225])\n",
    "\n",
    "\n",
    "transformations = [transforms.RandomResizedCrop(224),\n",
    "             transforms.RandomHorizontalFlip(),\n",
    "             transforms.ToTensor(),\n",
    "             normalize,]"
   ]
  },
  {
   "cell_type": "markdown",
   "metadata": {},
   "source": [
    "Now load the downloaded train and test dataset as a torch dataset"
   ]
  },
  {
   "cell_type": "code",
   "execution_count": null,
   "metadata": {},
   "outputs": [],
   "source": [
    "train_dataset = torchvision.datasets.ImageNet('./', split = 'train', tranform = transformations)\n",
    "\n",
    "valid_dataset = torchvision.datasets.ImageNet('./', split = 'test', tranform = transformations)"
   ]
  },
  {
   "cell_type": "markdown",
   "metadata": {},
   "source": [
    "### Define the Neural Network\n",
    "\n",
    "We will use the Resnet-50 architecture as our neural network for this experiement. Follow these steps to load the pre-defined Resnet-50 architecture from the torchvision.models module"
   ]
  },
  {
   "cell_type": "code",
   "execution_count": null,
   "metadata": {},
   "outputs": [],
   "source": [
    "#Setting the device to CUDA if GPU is available for super-fast training\n",
    "device = 'cuda' if torch.cuda.is_available() else 'cpu'\n",
    "device"
   ]
  },
  {
   "cell_type": "code",
   "execution_count": null,
   "metadata": {},
   "outputs": [],
   "source": [
    "ARCH = 'resnet50' #Defining the architecture to be used\n",
    "model = models.__dict__[ARCH]() #Loading the architecture\n",
    "\n",
    "torch.cuda.set_device(torch.cuda.device(device))\n",
    "model.cuda(device) #Placing the model in the GPU, if available"
   ]
  },
  {
   "cell_type": "markdown",
   "metadata": {},
   "source": [
    "### Train the Neural Network\n",
    "\n",
    "To train the network, we have to select an optimizer and a loss function.\n",
    "\n",
    "Since this is a multi-class classification problem, we select the cross entropy loss.\n",
    "\n",
    "We will also choose an optimizer (Adadelta) as defined in Section 6.1 of the [Zeus](https://www.usenix.org/system/files/nsdi23-you.pdf) paper"
   ]
  },
  {
   "cell_type": "code",
   "execution_count": null,
   "metadata": {},
   "outputs": [],
   "source": [
    "#Set the criteria to Cross-Entropy loss\n",
    "criterion = nn.CrossEntropyLoss().cuda(args.gpu)\n",
    "optimizer = torch.optim.Adadelta(\n",
    "    model.parameters(),\n",
    "    lr = 0.1\n",
    ")\n",
    "scheduler = StepLR(optimizer, step_size=30, gamma=0.1)"
   ]
  },
  {
   "cell_type": "markdown",
   "metadata": {},
   "source": [
    "To pass data to our model, we will prepare a DataLoader - this will iterate over the data and “batch” it for us according to the batch size we specify."
   ]
  },
  {
   "cell_type": "code",
   "execution_count": null,
   "metadata": {},
   "outputs": [],
   "source": [
    "#Loading the torch datasets as dataloaders to pass in the model; Using a default batch size of 128; shuffle for training, not for validation\n",
    "BATCH_SIZE = 128\n",
    "\n",
    "train_loader = DataLoader(\n",
    "        train_dataset,\n",
    "        batch_size=BATCH_SIZE,\n",
    "        shuffle=True\n",
    "    )\n",
    "val_loader = DataLoader(\n",
    "    valid_dataset,\n",
    "    batch_size=BATCH_SIZE,\n",
    "    shuffle=False\n",
    ")"
   ]
  },
  {
   "cell_type": "markdown",
   "metadata": {},
   "source": [
    "Now we are ready to define our training function:\n",
    "\n",
    "-   Get a batch of training data from the `train_loader`.\n",
    "-   Zero the gradients of the `optimizer`. (This is necessary because by default, they accumulate.)\n",
    "-   Do a forward pass on the batch of training data.\n",
    "-   Use the predictions from this forward pass to compute the loss.\n",
    "-   Then, do a backwards pass where we compute the gradients.\n",
    "-   Update the weights of the optimizer using these gradients.\n",
    "\n",
    "We stop the training when either a minimum validation accuracy is reached or the max number of epochs have taken place."
   ]
  },
  {
   "cell_type": "code",
   "execution_count": null,
   "metadata": {},
   "outputs": [],
   "source": [
    "def train_one_epoch(data_loader):\n",
    "\n",
    "    #Put the model in training mode\n",
    "    model.train()\n",
    "\n",
    "    for i, (images, target) in enumerate(data_loader):\n",
    "\n",
    "        # Load data to GPU\n",
    "        images = images.cuda(device, non_blocking=True)\n",
    "        target = target.cuda(device, non_blocking=True)\n",
    "\n",
    "        # compute output\n",
    "        output = model(images)\n",
    "        loss = criterion(output, target)\n",
    "\n",
    "        # compute gradient and do SGD step\n",
    "        optimizer.zero_grad()\n",
    "        loss.backward()\n",
    "        optimizer.step()"
   ]
  },
  {
   "cell_type": "markdown",
   "metadata": {},
   "source": [
    "We will also define a function for evaluating the model without training:"
   ]
  },
  {
   "cell_type": "code",
   "execution_count": null,
   "metadata": {},
   "outputs": [],
   "source": [
    "#First define an accuracy function to get the accuracy of a batch prediction\n",
    "def accuracy(predicted,actual):\n",
    "    _, predictions = torch.max(predicted,dim=1)\n",
    "    return torch.tensor(torch.sum(predictions==actual).item()/len(predictions))\n",
    "\n",
    "\n",
    "def eval_model(data_loader):\n",
    "    eval_accuracy = 0\n",
    "    running_samples = 0\n",
    "\n",
    "    # Set the model to evaluation mode\n",
    "    model.eval()\n",
    "\n",
    "    # Disable gradient computation for faster computation/reduced memory\n",
    "    with torch.no_grad():\n",
    "\n",
    "      for i, (images, target) in enumerate(data_loader):\n",
    "          # Every data instance is an X, y pair\n",
    "          images = images.cuda(device, non_blocking=True)\n",
    "          target = target.cuda(device, non_blocking=True)\n",
    "\n",
    "          # Forward pass makes predictions for this batch\n",
    "          output = model(images)\n",
    "\n",
    "          # Compute the accuracy\n",
    "          accuracy_batch = accuracy(output, target)\n",
    "          eval_accuracy = (eval_accuracy*running_samples + accuracy_batch*images.shape[0])/(running_samples+images.shape[0])\n",
    "          running_samples += images.shape[0]\n",
    "    \n",
    "    return eval_accuracy"
   ]
  },
  {
   "cell_type": "markdown",
   "metadata": {},
   "source": [
    "Now, we will loop over epochs, train the model for one epoch, and then evaluate its performance on the validation data at the end of each epoch."
   ]
  },
  {
   "cell_type": "code",
   "execution_count": null,
   "metadata": {},
   "outputs": [],
   "source": [
    "n_max_iter = 1\n",
    "MIN_VALIDATION_ACC = 0.65 #Stop training if validation accuracy reaches atleast MIN_VALIDATION_ACC\n",
    "metrics = {'validation_acc': []}\n",
    "train_acc,train_samples = 0,0\n",
    "\n",
    "#Training for one epoch\n",
    "monitor = ZeusMonitor(gpu_indices=[0])\n",
    "\n",
    "try:\n",
    "    monitor.begin_window(\"model_train\")\n",
    "# if the last measurement window is still running\n",
    "except ValueError:\n",
    "    _ = monitor.end_window(\"model_train\")\n",
    "    monitor.begin_window(\"model_train\")\n",
    "\n",
    "for epoch in range(n_max_iter):\n",
    "\n",
    "    ##Train the model for one epoch\n",
    "\n",
    "    # Train on training data\n",
    "    train_one_epoch(train_loader)\n",
    "\n",
    "    # Evaluate on validation data\n",
    "    val_accuracy = eval_model(val_loader)\n",
    "    metrics['validation_acc'].append(val_accuracy)\n",
    "\n",
    "    print(f'Epoch {epoch+1}/{n_epochs} - Val_Accuracy: {val_accuracy:.4f}')\n",
    "\n",
    "\n",
    "    if(val_accuracy>=MIN_VALIDATION_ACC):\n",
    "        break\n",
    "\n",
    "measurement = monitor.end_window(\"model_train\")"
   ]
  },
  {
   "cell_type": "code",
   "execution_count": null,
   "metadata": {},
   "outputs": [],
   "source": [
    "#Checkout enegy and time required for one epoch\n",
    "print(\"Measured time (s)  :\" , measurement.time)\n",
    "print(\"Measured energy (J):\" , measurement.total_energy)"
   ]
  },
  {
   "cell_type": "markdown",
   "metadata": {},
   "source": [
    "### Reproducing the Figure\n",
    "\n",
    "Now, we run the above loop to `n_max_iter = 100` with varying batch sizes and GPU power limit and store the model performance and energy metrics"
   ]
  },
  {
   "cell_type": "code",
   "execution_count": null,
   "metadata": {},
   "outputs": [],
   "source": [
    "#Select all the batch size and GPU power limits to test\n",
    "batch_size_list = [2**bts for bts in range(3,11)] #Sizes ranging from 8 to 1024 increasing in powers of 2\n",
    "\n",
    "power_limit_list = [powlimit for powlimit in range(100,251,30)] #Power limit ranging from 100W to 350W with increments of 30W\n",
    "\n",
    "#We now sample `k` random pair of batch_sizes and power limits\n",
    "\n",
    "k = 5\n",
    "\n",
    "params = sorted(random.sample(list(zip(batch_size_list, power_limit_list)), k))"
   ]
  },
  {
   "cell_type": "code",
   "execution_count": null,
   "metadata": {},
   "outputs": [],
   "source": [
    "n_max_iter = 100\n",
    "MIN_VALIDATION_ACC = 0.65 #Stop training if validation accuracy reaches atleast MIN_VALIDATION_ACC\n",
    "metrics = {'validation_acc': [],'time':[],'energy':[],'power_limit':[],'batch_size':[],'num_epochs'[]}\n",
    "train_acc,train_samples = 0,0\n",
    "\n",
    "#Training for one epoch\n",
    "monitor = ZeusMonitor(gpu_indices=[0])\n",
    "\n",
    "\n",
    "\n",
    "for (BATCH_SIZE, power_limit) in params:\n",
    "\n",
    "    train_loader = DataLoader(\n",
    "        train_dataset,\n",
    "        batch_size=BATCH_SIZE,\n",
    "        shuffle=True\n",
    "    )\n",
    "    val_loader = DataLoader(\n",
    "        val_dataset,\n",
    "        batch_size=BATCH_SIZE,\n",
    "        shuffle=False\n",
    "    )\n",
    "\n",
    "    pynvml.nvmlDeviceSetPowerManagementLimit(pynvmml.nvmlDeviceGetHandleByIndex(0),power_limit*1000) #Setting the power limit\n",
    "\n",
    "\n",
    "    try:\n",
    "        monitor.begin_window(\"model_train\")\n",
    "    # if the last measurement window is still running\n",
    "    except ValueError:\n",
    "        _ = monitor.end_window(\"model_train\")\n",
    "        monitor.begin_window(\"model_train\")\n",
    "    for epoch in range(n_max_iter):\n",
    "\n",
    "        ##Train the model for one epoch\n",
    "\n",
    "        # Train on training data\n",
    "        train_one_epoch(train_loader)\n",
    "\n",
    "        # Evaluate on validation data\n",
    "        val_accuracy = eval_model(val_loader)\n",
    "\n",
    "        print(f'Epoch {epoch+1}/{n_epochs} - Val_Accuracy: {val_accuracy:.4f}')\n",
    "\n",
    "\n",
    "        if(val_accuracy>=MIN_VALIDATION_ACC):\n",
    "            break\n",
    "\n",
    "    measurement = monitor.end_window(\"model_train\")\n",
    "\n",
    "    #Saving the metrics\n",
    "    metrics['validation_acc'].append(val_accuracy)\n",
    "    metrics['time'].append(measurement.time)\n",
    "    metrics['energy'].append(measurement.total_energy)\n",
    "    metrics['power_limit'].append(power_limit)\n",
    "    metrics['batch_size'].append(BATCH_SIZE)\n",
    "    metrics['num_epocs'].append(epoch+1)"
   ]
  },
  {
   "cell_type": "markdown",
   "metadata": {},
   "source": [
    "# Plotting Energy Consumption"
   ]
  },
  {
   "cell_type": "code",
   "execution_count": null,
   "metadata": {},
   "outputs": [],
   "source": [
    "energy = measurement.total_energy\n",
    "time = measurement.time\n",
    "\n",
    "plt.scatter(energy, time)\n",
    "plt.xlabel('Training Time (s)')\n",
    "plt.ylabel('Energy Consumption (J)')"
   ]
  }
 ],
 "nbformat": 4,
 "nbformat_minor": 4,
 "metadata": {
  "kernelspec": {
   "name": "python3",
   "display_name": "Python 3"
  }
 }
}
