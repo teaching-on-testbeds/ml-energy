{
 "cells": [
  {
   "cell_type": "markdown",
   "metadata": {},
   "source": [
    "# Run a single user notebook server on Chameleon\n",
    "\n",
    "This notebook describes how to run a single user Jupyter notebook server on Chameleon. This allows you to run experiments requiring bare metal access, storage, memory, GPU and compute resources on Chameleon using a Jupyter notebook interface."
   ],
   "id": "5b49605a-9c81-4567-8be4-0881ae841d3d"
  },
  {
   "cell_type": "markdown",
   "metadata": {},
   "source": [
    "## Provision the resource\n",
    "\n",
    "### Check resource availability\n",
    "\n",
    "This notebook will try to reserve a RTX6000 GPU backed Ubuntu-22.04 on CHI@UC - pending availability. Before you begin, you should check the host calendar at https://chi.uc.chameleoncloud.org/project/leases/calendar/host/ to see what node types are available.\n",
    "\n",
    "### Chameleon configuration\n",
    "\n",
    "You can change your Chameleon project name (if not using the one that is automatically configured in the JupyterHub environment) and the site on which to reserve resources (depending on availability) in the following cell."
   ],
   "id": "ae9abba3-0d91-4f86-9104-b2550805ccc1"
  },
  {
   "cell_type": "code",
   "execution_count": null,
   "metadata": {},
   "outputs": [],
   "source": [
    "import chi, os, time\n",
    "from chi import lease\n",
    "from chi import server\n",
    "\n",
    "PROJECT_NAME = \"CHI-231095\" # change this if you need to\n",
    "chi.use_site(\"CHI@UC\")\n",
    "chi.set(\"project_name\", PROJECT_NAME)\n",
    "username = os.getenv('USER') # all exp resources will have this prefix"
   ],
   "id": "9ee60fb0-07e4-4804-bba5-f8b0e8687fb5"
  },
  {
   "cell_type": "code",
   "execution_count": null,
   "metadata": {},
   "outputs": [],
   "source": [
    "image_name=\"CC-Ubuntu22.04-CUDA\"\n",
    "NODE_TYPE = \"gpu_rtx_6000\"\n",
    "\n",
    "chi.set(\"image\", image_name)"
   ],
   "id": "357a35df-c3e8-4c00-803a-65d941a57955"
  },
  {
   "cell_type": "markdown",
   "metadata": {},
   "source": [
    "## Reservation\n",
    "\n",
    "The following cell will create a reservation that begins now, and ends in 8 hours. You can modify the start and end date as needed."
   ],
   "id": "9ddf6174-fd8b-4a3b-9a74-35bbe8f3eb2e"
  },
  {
   "cell_type": "code",
   "execution_count": null,
   "metadata": {},
   "outputs": [],
   "source": [
    "res = []\n",
    "lease.add_node_reservation(res, node_type=NODE_TYPE, count=1)\n",
    "lease.add_fip_reservation(res, count=1)\n",
    "\n",
    "start_date, end_date = lease.lease_duration(days=0, hours=8)\n",
    "# if you won't start right now - comment the line above, uncomment two lines below\n",
    "# start_date = '2024-04-02 15:24' # manually define to desired start time \n",
    "# end_date = '2024-04-03 01:00' # manually define to desired start time \n",
    "\n",
    "\n",
    "l = lease.create_lease(f\"{username}-{NODE_TYPE}\", res, start_date=start_date, end_date=end_date)\n",
    "l = lease.wait_for_active(l[\"id\"]) #Comment this line if the lease starts in the future"
   ],
   "id": "399b09e2-a287-493d-a241-bd7e5abdad40"
  },
  {
   "cell_type": "code",
   "execution_count": null,
   "metadata": {},
   "outputs": [],
   "source": [
    "# continue here, whether using a lease created just now or one created earlier\n",
    "l = lease.get_lease(f\"{username}-{NODE_TYPE}\")"
   ],
   "id": "992e8e23-2d1c-424e-b1ec-1adcbb51ad68"
  },
  {
   "cell_type": "markdown",
   "metadata": {},
   "source": [
    "## Provisioning resources\n",
    "\n",
    "This cell provisions resources. It will take approximately 10 minutes. You can check on its status in the Chameleon web-based UI: https://chi.uc.chameleoncloud.org/project/instances/, then come back here when it is in the READY state."
   ],
   "id": "ce99f7d0-edbe-45dc-aee1-039c1723d14c"
  },
  {
   "cell_type": "code",
   "execution_count": null,
   "metadata": {},
   "outputs": [],
   "source": [
    "reservation_id = lease.get_node_reservation(l[\"id\"])\n",
    "server.create_server(\n",
    "    f\"{username}-{NODE_TYPE}\", \n",
    "    reservation_id=reservation_id,\n",
    "    image_name=image_name\n",
    ")\n",
    "server_id = server.get_server_id(f\"{username}-{NODE_TYPE}\")\n",
    "server.wait_for_active(server_id)"
   ],
   "id": "677d4223-a547-466a-a4b1-c490af0bbfcb"
  },
  {
   "cell_type": "markdown",
   "metadata": {},
   "source": [
    "Associate an IP address with this server:"
   ],
   "id": "252dda98-9528-4895-a5b9-725e296430ca"
  },
  {
   "cell_type": "code",
   "execution_count": null,
   "metadata": {},
   "outputs": [],
   "source": [
    "reserved_fip = server.associate_floating_ip(server_id)"
   ],
   "id": "e009ca15-f5b1-485e-a49f-d78af700f2a0"
  },
  {
   "cell_type": "markdown",
   "metadata": {},
   "source": [
    "And wait for it to come up"
   ],
   "id": "e31ee6b5-fe19-4713-900d-85408fa63366"
  },
  {
   "cell_type": "code",
   "execution_count": null,
   "metadata": {},
   "outputs": [],
   "source": [
    "server.wait_for_tcp(reserved_fip, port=22)"
   ],
   "id": "5a82fbf0-fb54-4955-91a5-b8f4ef10936a"
  },
  {
   "cell_type": "markdown",
   "metadata": {},
   "source": [
    "## Install Stuff\n",
    "\n",
    "The following cells will install some basic packages for your Chameleon server."
   ],
   "id": "f475c612-7877-405a-83ee-6886d8584ad5"
  },
  {
   "cell_type": "code",
   "execution_count": null,
   "metadata": {},
   "outputs": [],
   "source": [
    "from chi import ssh\n",
    "\n",
    "node = ssh.Remote(reserved_fip)"
   ],
   "id": "6e68be63-4b3f-4592-b3c0-e5e1c5dead2e"
  },
  {
   "cell_type": "code",
   "execution_count": null,
   "metadata": {},
   "outputs": [],
   "source": [
    "node.run('sudo apt update')\n",
    "node.run('sudo apt -y install python3-pip python3-dev')\n",
    "node.run('sudo pip3 install --upgrade pip')\n",
    "node.run('sudo apt -y install libcudnn8=8.9.6.50-1+cuda12.2') #Installing appropriate version of cudnn for the installed drivers\n",
    "node.run('sudo apt -y install pandoc')\n",
    "node.run('sudo apt -y install ffmpeg')"
   ],
   "id": "a6638364-7387-4b26-8e40-a92ea0f20633"
  },
  {
   "cell_type": "markdown",
   "metadata": {},
   "source": [
    "Add cuda to the environment path to ensure that the machine can identify the drivers"
   ],
   "id": "c1cd0b8f-71e0-40fe-8af6-e56e14fcdd16"
  },
  {
   "cell_type": "code",
   "execution_count": null,
   "metadata": {},
   "outputs": [],
   "source": [
    "node.run(\"echo 'PATH=\\\"/usr/local/cuda-12.3/bin:/usr/local/sbin:/usr/local/bin:/usr/sbin:/usr/bin:/sbin:/bin:/snap/bin\\\"' | sudo tee /etc/environment\")"
   ],
   "id": "a579df52-5b0e-4a5d-abb0-2bfd515fa87e"
  },
  {
   "cell_type": "markdown",
   "metadata": {},
   "source": [
    "Now reboot the server for all the installations to patch correctly"
   ],
   "id": "0494e375-9bf3-42b2-9750-4006c2f632b6"
  },
  {
   "cell_type": "code",
   "execution_count": null,
   "metadata": {},
   "outputs": [],
   "source": [
    "try:\n",
    "    node.run('sudo reboot') # reboot and wait for it to come up\n",
    "except:\n",
    "    pass\n",
    "server.wait_for_tcp(reserved_fip, port=22)"
   ],
   "id": "6a8681b8-5b24-4260-bd5c-37afd646101c"
  },
  {
   "cell_type": "code",
   "execution_count": null,
   "metadata": {},
   "outputs": [],
   "source": [
    "node = ssh.Remote(reserved_fip) # note: need a new SSH session to get new PATH\n",
    "node.run('nvidia-smi')\n",
    "node.run('nvcc --version')"
   ],
   "id": "b389f858-f914-4557-8ffa-498adb4cca9b"
  },
  {
   "cell_type": "markdown",
   "metadata": {},
   "source": [
    "## Install Python packages"
   ],
   "id": "aee4bd4d-f707-4f2b-a588-48c387bd1ed2"
  },
  {
   "cell_type": "code",
   "execution_count": null,
   "metadata": {},
   "outputs": [],
   "source": [
    "node.run('python3 -m pip install --user tensorflow[and-cuda]')\n",
    "node.run('python3 -m pip install --user numpy')\n",
    "node.run('python3 -m pip install --user matplotlib')\n",
    "node.run('python3 -m pip install --user seaborn')\n",
    "node.run('python3 -m pip install --user librosa')\n",
    "node.run('python3 -m pip install --user zeus-ml==0.8.2')\n",
    "node.run('python3 -m pip install --user torch torchvision torchaudio')\n",
    "node.run('python3 -m pip install --user pydot')"
   ],
   "id": "609553fd-a697-4c7f-997c-0296d7acf6de"
  },
  {
   "cell_type": "markdown",
   "metadata": {},
   "source": [
    "Test your installation - make sure Tensorflow can see the GPU:"
   ],
   "id": "aa88ceb7-f143-471f-ac58-54058da27076"
  },
  {
   "cell_type": "code",
   "execution_count": null,
   "metadata": {},
   "outputs": [],
   "source": [
    "node.run('python3 -c \\'import tensorflow as tf; print(tf.config.list_physical_devices(\"GPU\"))\\'')\n",
    "# should say: [PhysicalDevice(name='/physical_device:GPU:0', device_type='GPU')]"
   ],
   "id": "6131437b-a7a4-49cc-9d7d-1b3d800e5db8"
  },
  {
   "cell_type": "markdown",
   "metadata": {},
   "source": [
    "Now make sure torch can see the GPU:"
   ],
   "id": "02393441-d970-4203-87f7-32a3152b4e44"
  },
  {
   "cell_type": "code",
   "execution_count": null,
   "metadata": {},
   "outputs": [],
   "source": [
    "node.run('python3 -c \\'import torch; print(torch.cuda.get_device_name(0))\\'')\n",
    "# should say: Quadro RTX 6000"
   ],
   "id": "48a9809a-94a2-4872-84e8-b920a1efb94e"
  },
  {
   "cell_type": "markdown",
   "metadata": {},
   "source": [
    "## Setup Jupyter on server\n",
    "\n",
    "Install Jupyter"
   ],
   "id": "d3d471df-2b56-462b-bdee-3abdb144a5f2"
  },
  {
   "cell_type": "code",
   "execution_count": null,
   "metadata": {},
   "outputs": [],
   "source": [
    "node.run('python3 -m pip install --user  jupyter-core jupyter-client jupyter -U --force-reinstall')"
   ],
   "id": "1705dd71-a3cb-497d-80e2-77a378846900"
  },
  {
   "cell_type": "markdown",
   "metadata": {},
   "source": [
    "## Run a JupyterHub server\n",
    "\n",
    "Run the following cell"
   ],
   "id": "19a8784c-b41d-4521-a840-3973ccdf68e8"
  },
  {
   "cell_type": "code",
   "execution_count": null,
   "metadata": {},
   "outputs": [],
   "source": [
    "print('ssh -L 127.0.0.1:8888:127.0.0.1:8888 cc@' + reserved_fip) "
   ],
   "id": "bb2b3530-2e61-4ed1-aabe-80556c5f67fd"
  },
  {
   "cell_type": "markdown",
   "metadata": {},
   "source": [
    "then paste its output into a local terminal on your own device, to set up a tunnel to the Jupyter server. Make sure that 8888 port on your local machine is free before running this command. Upon successful login and tunneling, you should see this output.\n",
    "\n",
    "    Welcome to Ubuntu 22.04.4 LTS (GNU/Linux 5.15.0-101-generic x86_64)\n",
    "    Last login: xxxxxxxxxxxxxx\n",
    "\n",
    "If your Chameleon key is not in the default location, you should also specify the path to your key as an argument, using -i. For instance,\n",
    "\n",
    "``` python\n",
    "ssh -L 127.0.0.1:8888:127.0.0.1:8888 -i <SSH_KEYPATH> cc@<RESERVED_FIP>\n",
    "```\n",
    "\n",
    "Leave this SSH session open.\n",
    "\n",
    "Then, run the following cell, which will start a command that does not terminate:"
   ],
   "id": "49476dd5-19aa-42f8-9a8e-849097d2fa55"
  },
  {
   "cell_type": "code",
   "execution_count": null,
   "metadata": {},
   "outputs": [],
   "source": [
    "node.run(\"/home/cc/.local/bin/jupyter notebook --port=8888 --notebook-dir='/home/cc/'\")"
   ],
   "id": "756d22e3-8dd3-4343-a870-8d39f6f8ef44"
  },
  {
   "cell_type": "markdown",
   "metadata": {},
   "source": [
    "In the output of the cell above, look for a URL in this format:\n",
    "\n",
    "http://localhost:8888/?token=XXXXXXXXXXXXXXXXXXXXXXXXXXXXXXXXX Copy this URL and open it in a browser. Then, you can run the sequence of notebooks that you’ll see there, in order.\n",
    "\n",
    "If you need to stop and re-start your Jupyter server,\n",
    "\n",
    "-   Use Kernel \\> Interrupt Kernel twice to stop the cell above\n",
    "-   Then run the following cell to kill whatever may be left running in the background."
   ],
   "id": "04d3a01d-6cf1-418b-b034-c037aff4c8e4"
  },
  {
   "cell_type": "code",
   "execution_count": null,
   "metadata": {},
   "outputs": [],
   "source": [
    "node.run(\"sudo killall jupyter-notebook\")"
   ],
   "id": "7193a51c-2e0f-433c-8db8-2227f5466c73"
  },
  {
   "cell_type": "markdown",
   "metadata": {},
   "source": [
    "## Release Resources\n",
    "\n",
    "If you finish with your experimentation before your lease expires,release your resources and tear down your environment by running the following (commented out to prevent accidental deletions).\n",
    "\n",
    "This section is designed to work as a “standalone” portion - you can come back to this notebook, ignore the top part, and just run this section to delete your reasources"
   ],
   "id": "8e8194b7-038b-4454-93af-7a8fe7875a1a"
  },
  {
   "cell_type": "code",
   "execution_count": null,
   "metadata": {},
   "outputs": [],
   "source": [
    "# setup environment - if you made any changes in the top part, make the same changes here\n",
    "import chi, os\n",
    "from chi import lease, server\n",
    "\n",
    "PROJECT_NAME = PROJECT_NAME\n",
    "chi.use_site(\"CHI@UC\")\n",
    "chi.set(\"project_name\", PROJECT_NAME)\n",
    "username = os.getenv('USER')\n",
    "\n",
    "lease = chi.lease.get_lease(f\"{username}-{NODE_TYPE}\")"
   ],
   "id": "6465edac-14a3-478f-9154-9ae6101a7221"
  },
  {
   "cell_type": "code",
   "execution_count": null,
   "metadata": {},
   "outputs": [],
   "source": [
    "DELETE = False #Default value is False to prevent any accidental deletes. Change it to True for deleting the resources\n",
    "\n",
    "if DELETE:\n",
    "    # delete server\n",
    "    server_id = chi.server.get_server_id(f\"{username}-{NODE_TYPE}\")\n",
    "    chi.server.delete_server(server_id)\n",
    "\n",
    "    # release floating IP\n",
    "    reserved_fip =  chi.lease.get_reserved_floating_ips(lease[\"id\"])[0]\n",
    "    ip_info = chi.network.get_floating_ip(reserved_fip)\n",
    "    chi.neutron().delete_floatingip(ip_info[\"id\"])\n",
    "\n",
    "    # delete lease\n",
    "    chi.lease.delete_lease(lease[\"id\"])"
   ],
   "id": "d352bdcb-6014-47d0-821f-5067de05a1fe"
  }
 ],
 "nbformat": 4,
 "nbformat_minor": 5,
 "metadata": {}
}
