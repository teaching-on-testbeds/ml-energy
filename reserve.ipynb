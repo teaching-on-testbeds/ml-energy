{
 "cells": [
  {
   "cell_type": "markdown",
   "metadata": {},
   "source": [
    "# Run a single user notebook server on Chameleon\n",
    "\n",
    "This notebook describes how to run a single user Jupyter notebook server on Chameleon. This allows you to run experiments requiring bare metal access, storage, memory, GPU and compute resources on Chameleon using a Jupyter notebook interface."
   ],
   "id": "04f58ce0-6ecd-482b-be69-5c3232c66098"
  },
  {
   "cell_type": "markdown",
   "metadata": {},
   "source": [
    "## Provision the resource\n",
    "\n",
    "### Check resource availability\n",
    "\n",
    "This notebook will try to reserve a RTX6000 GPU backed Ubuntu-22.04 on CHI@UC - pending availability. Before you begin, you should check the host calendar at https://chi.uc.chameleoncloud.org/project/leases/calendar/host/ to see what node types are available.\n",
    "\n",
    "### Chameleon configuration\n",
    "\n",
    "You can change your Chameleon project name (if not using the one that is automatically configured in the JupyterHub environment) and the site on which to reserve resources (depending on availability) in the following cell."
   ],
   "id": "25264438-e91c-430f-8055-055433d6375c"
  },
  {
   "cell_type": "code",
   "execution_count": null,
   "metadata": {},
   "outputs": [],
   "source": [
    "import chi, os, time\n",
    "from chi import lease\n",
    "from chi import server\n",
    "\n",
    "PROJECT_NAME = \"CHI-231095\" # change this if you need to\n",
    "chi.use_site(\"CHI@UC\")\n",
    "chi.set(\"project_name\", PROJECT_NAME)\n",
    "username = os.getenv('USER') # all exp resources will have this prefix"
   ],
   "id": "217a4d0f-384a-4d87-b655-f475b26cede1"
  },
  {
   "cell_type": "code",
   "execution_count": null,
   "metadata": {},
   "outputs": [],
   "source": [
    "image_name=\"CC-Ubuntu22.04-CUDA\"\n",
    "NODE_TYPE = \"gpu_rtx_6000\"\n",
    "\n",
    "chi.set(\"image\", image_name)"
   ],
   "id": "b91eb7a0-ed40-418c-a973-8e415bcc3624"
  },
  {
   "cell_type": "markdown",
   "metadata": {},
   "source": [
    "## Reservation\n",
    "\n",
    "The following cell will create a reservation that begins now, and ends in 8 hours. You can modify the start and end date as needed."
   ],
   "id": "b04296b3-7510-47b6-8847-6705f276b1de"
  },
  {
   "cell_type": "code",
   "execution_count": null,
   "metadata": {},
   "outputs": [],
   "source": [
    "res = []\n",
    "lease.add_node_reservation(res, node_type=NODE_TYPE, count=1)\n",
    "lease.add_fip_reservation(res, count=1)\n",
    "\n",
    "start_date, end_date = lease.lease_duration(days=0, hours=8)\n",
    "# if you won't start right now - comment the line above, uncomment two lines below\n",
    "# start_date = '2024-04-02 15:24' # manually define to desired start time \n",
    "# end_date = '2024-04-03 01:00' # manually define to desired start time \n",
    "\n",
    "\n",
    "l = lease.create_lease(f\"{username}-{NODE_TYPE}\", res, start_date=start_date, end_date=end_date)\n",
    "l = lease.wait_for_active(l[\"id\"]) #Comment this line if the lease starts in the future"
   ],
   "id": "259a878c-714e-41c8-9dda-95c9111ca76d"
  },
  {
   "cell_type": "code",
   "execution_count": null,
   "metadata": {},
   "outputs": [],
   "source": [
    "# continue here, whether using a lease created just now or one created earlier\n",
    "l = lease.get_lease(f\"{username}-{NODE_TYPE}\")"
   ],
   "id": "1f7928eb-9673-44cc-98ff-681c9c2e87d1"
  },
  {
   "cell_type": "markdown",
   "metadata": {},
   "source": [
    "## Provisioning resources\n",
    "\n",
    "This cell provisions resources. It will take approximately 10 minutes. You can check on its status in the Chameleon web-based UI: https://chi.uc.chameleoncloud.org/project/instances/, then come back here when it is in the READY state."
   ],
   "id": "14bd5097-d71c-429f-b6ad-cf85f73fba19"
  },
  {
   "cell_type": "code",
   "execution_count": null,
   "metadata": {},
   "outputs": [],
   "source": [
    "reservation_id = lease.get_node_reservation(l[\"id\"])\n",
    "server.create_server(\n",
    "    f\"{username}-{NODE_TYPE}\", \n",
    "    reservation_id=reservation_id,\n",
    "    image_name=image_name\n",
    ")\n",
    "server_id = server.get_server_id(f\"{username}-{NODE_TYPE}\")\n",
    "server.wait_for_active(server_id)"
   ],
   "id": "1a99f244-2c4a-4edb-90c7-d299fc62fa3f"
  },
  {
   "cell_type": "markdown",
   "metadata": {},
   "source": [
    "Associate an IP address with this server:"
   ],
   "id": "15c1507e-2305-4590-91c8-379c1f8a6f1e"
  },
  {
   "cell_type": "code",
   "execution_count": null,
   "metadata": {},
   "outputs": [],
   "source": [
    "reserved_fip = server.associate_floating_ip(server_id)"
   ],
   "id": "4d189bca-2212-4c28-b830-286f1d096619"
  },
  {
   "cell_type": "markdown",
   "metadata": {},
   "source": [
    "And wait for it to come up"
   ],
   "id": "137d9be5-7a55-4272-a457-2e86eed62d7a"
  },
  {
   "cell_type": "code",
   "execution_count": null,
   "metadata": {},
   "outputs": [],
   "source": [
    "server.wait_for_tcp(reserved_fip, port=22)"
   ],
   "id": "9d8e3585-5fb4-446d-a325-a969fec81d0c"
  },
  {
   "cell_type": "markdown",
   "metadata": {},
   "source": [
    "## Install Stuff\n",
    "\n",
    "The following cells will install some basic packages for your Chameleon server."
   ],
   "id": "dd647f8f-6505-47c5-a1d5-8ff78bb8e187"
  },
  {
   "cell_type": "code",
   "execution_count": null,
   "metadata": {},
   "outputs": [],
   "source": [
    "from chi import ssh\n",
    "\n",
    "node = ssh.Remote(reserved_fip)"
   ],
   "id": "07562bd1-6cbf-4a3f-a7b0-684c4a54e3db"
  },
  {
   "cell_type": "code",
   "execution_count": null,
   "metadata": {},
   "outputs": [],
   "source": [
    "node.run('sudo apt update')\n",
    "node.run('sudo apt -y install python3-pip python3-dev')\n",
    "node.run('sudo pip3 install --upgrade pip')\n",
    "node.run('sudo apt -y install libcudnn8=8.9.6.50-1+cuda12.2') #Installing appropriate version of cudnn for the installed drivers"
   ],
   "id": "b7d3252b-ed76-422a-8826-13b47ab62978"
  },
  {
   "cell_type": "markdown",
   "metadata": {},
   "source": [
    "Add cuda to the environment path to ensure that the machine can identify the drivers"
   ],
   "id": "c74c9560-2291-42f7-b6dc-04aaa4239cbb"
  },
  {
   "cell_type": "code",
   "execution_count": null,
   "metadata": {},
   "outputs": [],
   "source": [
    "node.run(\"echo 'PATH=\\\"/usr/local/cuda-12.3/bin:/usr/local/sbin:/usr/local/bin:/usr/sbin:/usr/bin:/sbin:/bin:/snap/bin\\\"' | sudo tee /etc/environment\")"
   ],
   "id": "a7c661ce-afab-4e2e-beed-3960b0f4aeae"
  },
  {
   "cell_type": "markdown",
   "metadata": {},
   "source": [
    "Now reboot the server for all the installations to patch correctly"
   ],
   "id": "5f29c8ca-6583-4f2d-a225-23bb45b424aa"
  },
  {
   "cell_type": "code",
   "execution_count": null,
   "metadata": {},
   "outputs": [],
   "source": [
    "try:\n",
    "    node.run('sudo reboot') # reboot and wait for it to come up\n",
    "except:\n",
    "    pass\n",
    "server.wait_for_tcp(reserved_fip, port=22)"
   ],
   "id": "ac2ebe21-3026-4102-b48d-9ab6cdccae9e"
  },
  {
   "cell_type": "code",
   "execution_count": null,
   "metadata": {},
   "outputs": [],
   "source": [
    "node = ssh.Remote(reserved_fip) # note: need a new SSH session to get new PATH\n",
    "node.run('nvidia-smi')\n",
    "node.run('nvcc --version')"
   ],
   "id": "7e031025-00df-4bba-aeaa-996c6aaf0cda"
  },
  {
   "cell_type": "markdown",
   "metadata": {},
   "source": [
    "## Install Python packages"
   ],
   "id": "b83de20e-1458-4bd8-bce8-699ac09a03f0"
  },
  {
   "cell_type": "code",
   "execution_count": null,
   "metadata": {},
   "outputs": [],
   "source": [
    "node.run('python3 -m pip install --user tensorflow[and-cuda]')\n",
    "node.run('python3 -m pip install --user numpy')\n",
    "node.run('python3 -m pip install --user matplotlib')\n",
    "node.run('python3 -m pip install --user seaborn')\n",
    "node.run('python3 -m pip install --user librosa')\n",
    "node.run('python3 -m pip install --user zeus')"
   ],
   "id": "941dfdf1-5fd8-4975-9c3d-c82ba8f9793a"
  },
  {
   "cell_type": "markdown",
   "metadata": {},
   "source": [
    "Test your installation - make sure Tensorflow can see the GPU:"
   ],
   "id": "c710303c-4d63-4ff0-98fb-f3e87b39f971"
  },
  {
   "cell_type": "code",
   "execution_count": null,
   "metadata": {},
   "outputs": [],
   "source": [
    "node.run('python3 -c \\'import tensorflow as tf; print(tf.config.list_physical_devices(\"GPU\"))\\'')"
   ],
   "id": "45e8edb0-a084-44b5-a24a-5bb249cd4aca"
  },
  {
   "cell_type": "markdown",
   "metadata": {},
   "source": [
    "## Setup Jupyter on server\n",
    "\n",
    "Install Jupyter"
   ],
   "id": "6fb4613d-090b-4e3d-b58e-38ea5b096253"
  },
  {
   "cell_type": "code",
   "execution_count": null,
   "metadata": {},
   "outputs": [],
   "source": [
    "node.run('python3 -m pip install --user  jupyter-core jupyter-client jupyter -U --force-reinstall')"
   ],
   "id": "ebf1f452-1acd-4b7d-9155-b98cdde81b47"
  },
  {
   "cell_type": "markdown",
   "metadata": {},
   "source": [
    "## Run a JupyterHub server\n",
    "\n",
    "Run the following cell"
   ],
   "id": "4cd95569-83be-4ae0-a90b-87a73265afd9"
  },
  {
   "cell_type": "code",
   "execution_count": null,
   "metadata": {},
   "outputs": [],
   "source": [
    "print('ssh -L 127.0.0.1:8888:127.0.0.1:8888 cc@' + reserved_fip) "
   ],
   "id": "4ff05707-b8b1-402b-9356-72e0c5f6d345"
  },
  {
   "cell_type": "markdown",
   "metadata": {},
   "source": [
    "then paste its output into a local terminal on your own device, to set up a tunnel to the Jupyter server. Make sure that 8888 port on your local machine is free before running this command. Upon successful login and tunneling, you should see this output.\n",
    "\n",
    "    Welcome to Ubuntu 22.04.4 LTS (GNU/Linux 5.15.0-101-generic x86_64)\n",
    "    Last login: xxxxxxxxxxxxxx\n",
    "\n",
    "If your Chameleon key is not in the default location, you should also specify the path to your key as an argument, using -i. For instance,\n",
    "\n",
    "``` python\n",
    "ssh -L 127.0.0.1:8888:127.0.0.1:8888 -i <SSH_KEYPATH> cc@<RESERVED_FIP>\n",
    "```\n",
    "\n",
    "Leave this SSH session open.\n",
    "\n",
    "Then, run the following cell, which will start a command that does not terminate:"
   ],
   "id": "4e2795b3-1b76-44ce-91d0-52184014286b"
  },
  {
   "cell_type": "code",
   "execution_count": null,
   "metadata": {},
   "outputs": [],
   "source": [
    "node.run(\"/home/cc/.local/bin/jupyter notebook --port=8888 --notebook-dir='/home/cc/'\")"
   ],
   "id": "cd1a7cab-fbc9-4409-b6f3-a269bb641e36"
  },
  {
   "cell_type": "markdown",
   "metadata": {},
   "source": [
    "In the output of the cell above, look for a URL in this format:\n",
    "\n",
    "http://localhost:8888/?token=XXXXXXXXXXXXXXXXXXXXXXXXXXXXXXXXX Copy this URL and open it in a browser. Then, you can run the sequence of notebooks that you’ll see there, in order.\n",
    "\n",
    "If you need to stop and re-start your Jupyter server,\n",
    "\n",
    "-   Use Kernel \\> Interrupt Kernel twice to stop the cell above\n",
    "-   Then run the following cell to kill whatever may be left running in the background."
   ],
   "id": "cd82c56a-b1e5-42ed-bd3f-d743f03a1c79"
  },
  {
   "cell_type": "code",
   "execution_count": null,
   "metadata": {},
   "outputs": [],
   "source": [
    "node.run(\"sudo killall jupyter-notebook\")"
   ],
   "id": "1442eee8-3071-4aec-b6d0-9aca51a6b08a"
  },
  {
   "cell_type": "markdown",
   "metadata": {},
   "source": [
    "## Release Resources\n",
    "\n",
    "If you finish with your experimentation before your lease expires,release your resources and tear down your environment by running the following (commented out to prevent accidental deletions).\n",
    "\n",
    "This section is designed to work as a “standalone” portion - you can come back to this notebook, ignore the top part, and just run this section to delete your reasources"
   ],
   "id": "c271ad13-fe87-438c-9f3a-bb4dba304121"
  },
  {
   "cell_type": "code",
   "execution_count": null,
   "metadata": {},
   "outputs": [],
   "source": [
    "# setup environment - if you made any changes in the top part, make the same changes here\n",
    "import chi, os\n",
    "from chi import lease, server\n",
    "\n",
    "PROJECT_NAME = PROJECT_NAME\n",
    "chi.use_site(\"CHI@UC\")\n",
    "chi.set(\"project_name\", PROJECT_NAME)\n",
    "username = os.getenv('USER')\n",
    "\n",
    "lease = chi.lease.get_lease(f\"{username}-{NODE_TYPE}\")"
   ],
   "id": "0ac4c277-2f47-41c0-89f5-562cdc91f9da"
  },
  {
   "cell_type": "code",
   "execution_count": null,
   "metadata": {},
   "outputs": [],
   "source": [
    "DELETE = False #Default value is False to prevent any accidental deletes. Change it to True for deleting the resources\n",
    "\n",
    "if DELETE:\n",
    "    # delete server\n",
    "    server_id = chi.server.get_server_id(f\"{username}-{NODE_TYPE}\")\n",
    "    chi.server.delete_server(server_id)\n",
    "\n",
    "    # release floating IP\n",
    "    reserved_fip =  chi.lease.get_reserved_floating_ips(lease[\"id\"])[0]\n",
    "    ip_info = chi.network.get_floating_ip(reserved_fip)\n",
    "    chi.neutron().delete_floatingip(ip_info[\"id\"])\n",
    "\n",
    "    # delete lease\n",
    "    chi.lease.delete_lease(lease[\"id\"])"
   ],
   "id": "abe59434-2e0f-47f3-af8e-7f7683e3c9cc"
  }
 ],
 "nbformat": 4,
 "nbformat_minor": 5,
 "metadata": {}
}
