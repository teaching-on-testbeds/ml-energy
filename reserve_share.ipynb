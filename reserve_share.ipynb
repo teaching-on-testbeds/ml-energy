{
 "cells": [
  {
   "cell_type": "markdown",
   "metadata": {},
   "source": [
    "## Run a single user notebook server on Chameleon with space reserved on share\n",
    "\n",
    "This notebook describes how to run a single user Jupyter notebook server\n",
    "on Chameleon with external space reserved on share. This allows you to\n",
    "run experiments requiring bare metal access, storage, memory, GPU and\n",
    "compute resources on Chameleon using a Jupyter notebook interface."
   ],
   "id": "8ca45756-6ae0-41f6-9301-9545768df0ce"
  },
  {
   "cell_type": "markdown",
   "metadata": {},
   "source": [
    "### Provision the resource\n",
    "\n",
    "#### Check resource availability\n",
    "\n",
    "This notebook will try to reserve a RTX6000 GPU backed Ubuntu-22.04 on\n",
    "CHI@UC - pending availability. Before you begin, you should check the\n",
    "host calendar at\n",
    "https://chi.uc.chameleoncloud.org/project/leases/calendar/host/ to see\n",
    "what node types are available.\n",
    "\n",
    "#### Chameleon configuration\n",
    "\n",
    "You can change your Chameleon project name (if not using the one that is\n",
    "automatically configured in the JupyterHub environment) and the site on\n",
    "which to reserve resources (depending on availability) in the following\n",
    "cell."
   ],
   "id": "cd26dfce-1f97-42af-864f-0ef17d20e06a"
  },
  {
   "cell_type": "code",
   "execution_count": null,
   "metadata": {},
   "outputs": [],
   "source": [
    "import chi, os, time\n",
    "from chi import lease\n",
    "from chi import server\n",
    "from chi import network\n",
    "from chi import share\n",
    "\n",
    "project_name = \"CHI-231095\" # Replace with your project name\n",
    "region_name = \"CHI@UC\"     # Replace site if not use CHI@UC\n",
    "\n",
    "chi.set('project_name', project_name)\n",
    "chi.set('region_name', region_name)\n",
    "chi.use_site(region_name)\n",
    "username = os.getenv('USER') # all exp resources will have this prefix"
   ],
   "id": "dedee88e-8892-4f9c-b9dd-c1e10e8ec88b"
  },
  {
   "cell_type": "code",
   "execution_count": null,
   "metadata": {},
   "outputs": [],
   "source": [
    "image_name=\"CC-Ubuntu22.04-CUDA\"\n",
    "NODE_TYPE = \"gpu_rtx_6000\"\n",
    "\n",
    "\n",
    "NAME = f\"{username}-{NODE_TYPE}-share\" # a name for all openstack components\n",
    "NAME"
   ],
   "id": "baf5d40a-2f72-49ac-b400-0bc915cfb5b5"
  },
  {
   "cell_type": "markdown",
   "metadata": {},
   "source": [
    "### Create a share\n",
    "\n",
    "In this step, you will create a 1024 GiB share. A share is a\n",
    "pre-allocated storage space at a CephFS.\n",
    "\n",
    "**Note**: There are no charges for the storage spaces of your shares.\n",
    "However, there is a limit on the total size and the number of shares you\n",
    "can create within your project. The maximum number of shares is 10 and\n",
    "the maximum size allowed for all shares in a project is 2000 GiB."
   ],
   "id": "55977aba-f74c-4762-8e74-180b27511ba0"
  },
  {
   "cell_type": "code",
   "execution_count": null,
   "metadata": {},
   "outputs": [],
   "source": [
    "my_share= share.create_share(size=1024, name=NAME) #Comment this line if you're using an already created share and uncomment the line below\n",
    "# my_share= share.get_share(NAME)\n",
    "my_share"
   ],
   "id": "0a04a834-b9b7-418b-974a-e83b9c1faf99"
  },
  {
   "cell_type": "markdown",
   "metadata": {},
   "source": [
    "### Reservation\n",
    "\n",
    "The following cell will create a reservation that begins now, and ends\n",
    "in 8 hours. You can modify the start and end date as needed."
   ],
   "id": "bdd21891-d003-42d9-adf5-2066f9a86dcc"
  },
  {
   "cell_type": "code",
   "execution_count": null,
   "metadata": {},
   "outputs": [],
   "source": [
    "res = []\n",
    "lease.add_node_reservation(res, node_type=NODE_TYPE, count=1)\n",
    "lease.add_network_reservation(res, network_name=NAME, resource_properties=[\"==\", \"$usage_type\", \"storage\"])\n",
    "lease.add_fip_reservation(res, count=1)\n",
    "\n",
    "start_date, end_date = chi.lease.lease_duration(days=0, hours=72)\n",
    "# if you won't start right now - comment the line above, uncomment two lines below\n",
    "# start_date = '2024-04-21 08:51' # manually define to desired start time \n",
    "# end_date = '2024-04-22 12:55' # manually define to desired start time \n",
    "\n",
    "\n",
    "l = lease.create_lease(NAME, res, start_date=start_date, end_date=end_date)\n",
    "l = lease.wait_for_active(l[\"id\"]) #Comment this line if the lease starts in the future"
   ],
   "id": "3a92d106-5700-490c-a522-9ccdfabd7ef2"
  },
  {
   "cell_type": "code",
   "execution_count": null,
   "metadata": {},
   "outputs": [],
   "source": [
    "# continue here, whether using a lease created just now or one created earlier\n",
    "l = lease.get_lease(NAME)"
   ],
   "id": "6f6727fe-18fc-4c21-981d-ef675f86d262"
  },
  {
   "cell_type": "markdown",
   "metadata": {},
   "source": [
    "### Provisioning resources\n",
    "\n",
    "This cell provisions resources. It will take approximately 10 minutes.\n",
    "You can check on its status in the Chameleon web-based UI:\n",
    "https://chi.uc.chameleoncloud.org/project/instances/, then come back\n",
    "here when it is in the READY state."
   ],
   "id": "31352f25-f3dc-4e5f-9392-aaeab2795e49"
  },
  {
   "cell_type": "code",
   "execution_count": null,
   "metadata": {},
   "outputs": [],
   "source": [
    "# Create a server\n",
    "reservation_id = lease.get_node_reservation(l[\"id\"])\n",
    "server_ = server.create_server(NAME, \n",
    "                                  reservation_id=reservation_id, \n",
    "                                  network_name=NAME, \n",
    "                                  image_name=image_name)\n",
    "\n",
    "\n",
    "server_id = server.get_server_id(NAME)\n",
    "# Wait until the server is active\n",
    "server.wait_for_active(server_id)"
   ],
   "id": "beb84199-5251-48ba-b6a9-df39fccabda8"
  },
  {
   "cell_type": "markdown",
   "metadata": {},
   "source": [
    "## Talk to the server\n",
    "\n",
    "To attach floating IP to your instance created on a storage network, you\n",
    "need to create a router with `public` external network. Then connect the\n",
    "storage subnet to the router. You must specify an unused IP address\n",
    "which belongs to the selected subnet."
   ],
   "id": "81b57146-3c73-410c-ac38-0cc6f1c3a516"
  },
  {
   "cell_type": "code",
   "execution_count": null,
   "metadata": {},
   "outputs": [],
   "source": [
    "# Get storage network id\n",
    "network_ = network.get_network(NAME)\n",
    "network_id = network_['id']\n",
    "\n",
    "# Get an unused IP address on the storage subnet and create a port\n",
    "subnet_id = network.get_subnet_id(NAME + '-subnet')\n",
    "port = network.create_port(NAME, network_id, subnet_id=subnet_id)\n",
    "\n",
    "# Create a router with public external network\n",
    "router = network.create_router(NAME, gw_network_name='public')\n",
    "\n",
    "# Added port to router\n",
    "network.add_port_to_router_by_name(NAME, NAME)"
   ],
   "id": "395854cb-1af8-4358-8085-d82d0d20d371"
  },
  {
   "cell_type": "markdown",
   "metadata": {},
   "source": [
    "Associate an IP address with this server:"
   ],
   "id": "2cc73aed-9d2f-4977-be59-924b5e3dcdcd"
  },
  {
   "cell_type": "code",
   "execution_count": null,
   "metadata": {},
   "outputs": [],
   "source": [
    "from chi import ssh\n",
    "\n",
    "floating_ip = server.associate_floating_ip(server_id) #Comment this line if you're going to work on an already existing server and uncomment the line below\n",
    "# floating_ip = lease.get_reserved_floating_ips(l[\"id\"])[0]"
   ],
   "id": "e86290dd-c015-46be-8ef8-eef98f508806"
  },
  {
   "cell_type": "markdown",
   "metadata": {},
   "source": [
    "## View share and check access rules\n",
    "\n",
    "The paths of the export locations are important as you will use this\n",
    "path to mount your share to your bare metal instance. Also, the\n",
    "accessibility of the shares are controlled internally by the reservation\n",
    "service. You need to check if the access rules are granted to the share."
   ],
   "id": "538054aa-852d-4f5d-b36c-99bd56d954ad"
  },
  {
   "cell_type": "code",
   "execution_count": null,
   "metadata": {},
   "outputs": [],
   "source": [
    "share_ = share.get_share(my_share.id)\n",
    "\n",
    "# Get export path\n",
    "export_path = share_.export_locations[0]\n",
    "\n",
    "# Get and check access rules\n",
    "subnet = network.get_subnet(NAME + '-subnet')\n",
    "access_rules = share.get_access_rules(share_.id)\n",
    "access_rule_found = False\n",
    "for rule in access_rules:\n",
    "    print(rule)\n",
    "    if rule.state == \"active\" and rule.access_to == subnet['cidr'] and rule.access_level == \"rw\":\n",
    "        access_rule_found = True\n",
    "        print(\"Access rule has been added successfully!\")\n",
    "        break\n",
    "if not access_rule_found:\n",
    "    print(\"Failed to find the access rule!\")"
   ],
   "id": "7f8d2688-5dc8-44bf-8aba-18cebdc33ded"
  },
  {
   "cell_type": "code",
   "execution_count": null,
   "metadata": {},
   "outputs": [],
   "source": [
    "server.wait_for_tcp(floating_ip, 22)\n",
    "\n",
    "# Create a remote connection\n",
    "node = ssh.Remote(floating_ip)"
   ],
   "id": "1efce113-0e69-49f4-a051-4b55a2032341"
  },
  {
   "cell_type": "markdown",
   "metadata": {},
   "source": [
    "## Mount the share\n",
    "\n",
    "Mounting your share to your instance is simple with the `mount` command."
   ],
   "id": "bac338ce-85f7-4973-9b73-982e1657d006"
  },
  {
   "cell_type": "code",
   "execution_count": null,
   "metadata": {},
   "outputs": [],
   "source": [
    "mnt_dir = \"/mnt\"\n",
    "\n",
    "# Mount to mnt_dir \n",
    "node.sudo(f\"mount -t nfs -o nfsvers=4.2,proto=tcp {export_path} {mnt_dir}\", hide=True)\n",
    "\n",
    "# Add a file to share\n",
    "node.sudo(f\"bash -c 'echo \\\"this is my test file\\\" > {mnt_dir}/mytext.txt'\", hide=True)\n",
    "\n",
    "# List mnt_dir\n",
    "list_files = node.sudo(f\"ls -la {mnt_dir}\", hide=True)\n",
    "print(list_files.stdout)\n",
    "\n",
    "# Unmount - Uncomment this line if you would like to unmount the storage\n",
    "# node.sudo(f\"umount {mnt_dir}\", hide=True)"
   ],
   "id": "cdc23e4d-bdbf-4de2-9ed5-b2e74070253b"
  },
  {
   "cell_type": "markdown",
   "metadata": {},
   "source": [
    "### Install Stuff\n",
    "\n",
    "The following cells will install some basic packages for your Chameleon\n",
    "server."
   ],
   "id": "04aba49d-ed19-41ab-8aa8-dc610a9573a6"
  },
  {
   "cell_type": "code",
   "execution_count": null,
   "metadata": {},
   "outputs": [],
   "source": [
    "node.run('sudo apt update')\n",
    "node.run('sudo apt -y install python3-pip python3-dev')\n",
    "node.run('sudo pip3 install --upgrade pip')\n",
    "node.run('sudo apt -y install libcudnn8=8.9.6.50-1+cuda12.2') #Installing appropriate version of cudnn for the installed drivers\n",
    "node.run('sudo apt -y install pandoc')\n",
    "node.run('sudo apt -y install ffmpeg')"
   ],
   "id": "164df6b3-30a3-42de-982e-fc8d86c860b4"
  },
  {
   "cell_type": "markdown",
   "metadata": {},
   "source": [
    "Add cuda to the environment path to ensure that the machine can identify\n",
    "the drivers"
   ],
   "id": "b1094be3-6efb-4c6d-b503-be17855a1d19"
  },
  {
   "cell_type": "code",
   "execution_count": null,
   "metadata": {},
   "outputs": [],
   "source": [
    "node.run(\"echo 'PATH=\\\"/usr/local/cuda-12.3/bin:/usr/local/sbin:/usr/local/bin:/usr/sbin:/usr/bin:/sbin:/bin:/snap/bin\\\"' | sudo tee /etc/environment\")"
   ],
   "id": "8c859e6d-9904-4704-ba01-9892a21626bf"
  },
  {
   "cell_type": "markdown",
   "metadata": {},
   "source": [
    "Now reboot the server for all the installations to patch correctly"
   ],
   "id": "96a84b26-a9f7-485c-ad2c-3a32360bdd0c"
  },
  {
   "cell_type": "code",
   "execution_count": null,
   "metadata": {},
   "outputs": [],
   "source": [
    "try:\n",
    "    node.run('sudo reboot') # reboot and wait for it to come up\n",
    "except:\n",
    "    pass\n",
    "server.wait_for_tcp(floating_ip, port=22)"
   ],
   "id": "a5bc3275-a97a-4bac-872b-c6bf4e834e25"
  },
  {
   "cell_type": "code",
   "execution_count": null,
   "metadata": {},
   "outputs": [],
   "source": [
    "node = ssh.Remote(floating_ip) # note: need a new SSH session to get new PATH\n",
    "node.run('nvidia-smi')\n",
    "node.run('nvcc --version')"
   ],
   "id": "350f0a60-7fa8-4ef3-b454-7f9a9cdaf6b0"
  },
  {
   "cell_type": "markdown",
   "metadata": {},
   "source": [
    "## Install Python packages"
   ],
   "id": "31fb9b7c-04e2-4967-a442-5828076e09ab"
  },
  {
   "cell_type": "code",
   "execution_count": null,
   "metadata": {},
   "outputs": [],
   "source": [
    "node.run('python3 -m pip install --user tensorflow[and-cuda]==2.16.1')\n",
    "node.run('python3 -m pip install --user numpy==1.26.4')\n",
    "node.run('python3 -m pip install --user matplotlib==3.8.4')\n",
    "node.run('python3 -m pip install --user seaborn==0.13.2')\n",
    "node.run('python3 -m pip install --user librosa==0.10.1')\n",
    "node.run('python3 -m pip install --user zeus-ml==0.8.2')\n",
    "node.run('python3 -m pip install --user torch==2.2.2 torchvision==0.17.2 torchaudio==-2.2.2')\n",
    "node.run('python3 -m pip install --user pydot==2.0.0')"
   ],
   "id": "f40c35c8-784f-4e2e-96cc-f3bcf60b6063"
  },
  {
   "cell_type": "markdown",
   "metadata": {},
   "source": [
    "Test your installation - make sure Tensorflow can see the GPU:"
   ],
   "id": "31b40cd0-09c4-4478-ae47-1db1f4cbabaa"
  },
  {
   "cell_type": "code",
   "execution_count": null,
   "metadata": {},
   "outputs": [],
   "source": [
    "node.run('python3 -c \\'import tensorflow as tf; print(tf.config.list_physical_devices(\"GPU\"))\\'')\n",
    "# should say: [PhysicalDevice(name='/physical_device:GPU:0', device_type='GPU')]"
   ],
   "id": "18e7fb0b-6d52-4e7a-94d4-bd773cef33e6"
  },
  {
   "cell_type": "markdown",
   "metadata": {},
   "source": [
    "Now make sure torch can see the GPU:"
   ],
   "id": "6ca9e955-7bc3-425f-a5b7-a8f26d794a3b"
  },
  {
   "cell_type": "code",
   "execution_count": null,
   "metadata": {},
   "outputs": [],
   "source": [
    "node.run('python3 -c \\'import torch; print(torch.cuda.get_device_name(0))\\'')\n",
    "# should say: Quadro RTX 6000"
   ],
   "id": "c4e54a4b-edc4-47bc-b54a-216f55fa5198"
  },
  {
   "cell_type": "markdown",
   "metadata": {},
   "source": [
    "## Setup Jupyter on server\n",
    "\n",
    "Install Jupyter"
   ],
   "id": "4274c880-ef11-490f-9fc4-2aa7bb8d80a6"
  },
  {
   "cell_type": "code",
   "execution_count": null,
   "metadata": {},
   "outputs": [],
   "source": [
    "node.run('python3 -m pip install --user  jupyter-core jupyter-client jupyter -U --force-reinstall')"
   ],
   "id": "e4feacca-e69b-4c15-9976-b3f4d974891a"
  },
  {
   "cell_type": "markdown",
   "metadata": {},
   "source": [
    "## Retrieve the materials\n",
    "\n",
    "Finally, get a copy of the notebooks that you will run:"
   ],
   "id": "ebd84eac-38b0-40cb-8c2d-7d0d510d5367"
  },
  {
   "cell_type": "code",
   "execution_count": null,
   "metadata": {},
   "outputs": [],
   "source": [
    "node.run('git clone https://github.com/teaching-on-testbeds/ml-energy.git')"
   ],
   "id": "d6d0bdee-1922-4a00-a5b7-7a709fdf6ca8"
  },
  {
   "cell_type": "markdown",
   "metadata": {},
   "source": [
    "## Run a JupyterHub server\n",
    "\n",
    "Run the following cell"
   ],
   "id": "bed31609-ca5f-4164-835e-bc5d17d42efe"
  },
  {
   "cell_type": "code",
   "execution_count": null,
   "metadata": {},
   "outputs": [],
   "source": [
    "print('ssh -L 127.0.0.1:8888:127.0.0.1:8888 cc@' + floating_ip) "
   ],
   "id": "0ee3108d-460c-4505-b61b-0518c62d8667"
  },
  {
   "cell_type": "markdown",
   "metadata": {},
   "source": [
    "then paste its output into a local terminal on your own device, to set\n",
    "up a tunnel to the Jupyter server. Make sure that 8888 port on your\n",
    "local machine is free before running this command. Upon successful login\n",
    "and tunneling, you should see this output.\n",
    "\n",
    "    Welcome to Ubuntu 22.04.4 LTS (GNU/Linux 5.15.0-101-generic x86_64)\n",
    "    Last login: xxxxxxxxxxxxxx\n",
    "\n",
    "If your Chameleon key is not in the default location, you should also\n",
    "specify the path to your key as an argument, using -i. For instance,\n",
    "\n",
    "``` python\n",
    "ssh -L 127.0.0.1:8888:127.0.0.1:8888 -i <SSH_KEYPATH> cc@<FLOATING_IP>\n",
    "```\n",
    "\n",
    "Leave this SSH session open.\n",
    "\n",
    "Then, run the following cell, which will start a command that does not\n",
    "terminate:"
   ],
   "id": "f8b5e023-0c12-461e-9e41-7ec45c6b0402"
  },
  {
   "cell_type": "code",
   "execution_count": null,
   "metadata": {},
   "outputs": [],
   "source": [
    "node.run(\"/home/cc/.local/bin/jupyter notebook --port=8888 --notebook-dir='/home/cc/ml-energy/notebooks/'\")"
   ],
   "id": "7b7f7a01-8216-4106-b2e5-84b18fcca631"
  },
  {
   "cell_type": "markdown",
   "metadata": {},
   "source": [
    "In the output of the cell above, look for a URL in this format:\n",
    "\n",
    "http://localhost:8888/?token=XXXXXXXXXXXXXXXXXXXXXXXXXXXXXXXXX Copy this\n",
    "URL and open it in a browser. Then, you can run the sequence of\n",
    "notebooks that you’ll see there, in order.\n",
    "\n",
    "If you need to stop and re-start your Jupyter server,\n",
    "\n",
    "-   Use Kernel \\> Interrupt Kernel twice to stop the cell above\n",
    "-   Then run the following cell to kill whatever may be left running in\n",
    "    the background.\n",
    "\n",
    "Note: If the message\n",
    "`The port 8888 is already in use, trying another port.` appears in the\n",
    "output of the above cell, it implies that the local port 8888 is busy\n",
    "i.e. being used by someother process. Note the port the notebook was\n",
    "launched at. `localhost:XXXX`, XXXX is the port of interest.\n",
    "\n",
    "Quit the ssh running on the local machine from the cell above and\n",
    "replace it with\n",
    "\n",
    "``` python\n",
    "ssh -L 127.0.0.1:8888:127.0.0.1:XXXX -i <SSH_KEYPATH> cc@<FLOATING_ID>\n",
    "```"
   ],
   "id": "5685656f-f3cb-422d-82f6-0ac038560473"
  },
  {
   "cell_type": "code",
   "execution_count": null,
   "metadata": {},
   "outputs": [],
   "source": [
    "node.run(\"sudo killall jupyter-notebook\")"
   ],
   "id": "92fa6214-aa71-4da7-8c66-549ab351814a"
  },
  {
   "cell_type": "markdown",
   "metadata": {},
   "source": [
    "## Release Resources\n",
    "\n",
    "If you finish with your experimentation before your lease\n",
    "expires,release your resources and tear down your environment by running\n",
    "the following (commented out to prevent accidental deletions).\n",
    "\n",
    "This section is designed to work as a “standalone” portion - you can\n",
    "come back to this notebook, ignore the top part, and just run this\n",
    "section to delete your reasources"
   ],
   "id": "337c08c0-fb3c-431c-a671-134b4f5d834a"
  },
  {
   "cell_type": "code",
   "execution_count": null,
   "metadata": {},
   "outputs": [],
   "source": [
    "# setup environment - if you made any changes in the top part, make the same changes here\n",
    "import chi, os\n",
    "from chi import lease, server, network, share\n",
    "\n",
    "PROJECT_NAME = \"CHI-231095\"\n",
    "chi.use_site(\"CHI@UC\")\n",
    "chi.set(\"project_name\", PROJECT_NAME)\n",
    "username = os.getenv('USER')\n",
    "\n",
    "lease = lease.get_lease(f\"{username}-{NODE_TYPE}\")"
   ],
   "id": "f05da369-7e44-4242-b619-9834a8308f49"
  },
  {
   "cell_type": "code",
   "execution_count": null,
   "metadata": {},
   "outputs": [],
   "source": [
    "DELETE = False #Default value is False to prevent any accidental deletes. Change it to True for deleting the resources\n",
    "\n",
    "if DELETE:\n",
    "    # delete server\n",
    "    server_id = server.get_server_id(f\"{username}-{NODE_TYPE}\")\n",
    "    server.delete_server(server_id)\n",
    "\n",
    "    # release floating IP\n",
    "    reserved_fip =  lease.get_reserved_floating_ips(lease[\"id\"])[0]\n",
    "    ip_info = network.get_floating_ip(reserved_fip)\n",
    "    chi.neutron().delete_floatingip(ip_info[\"id\"])\n",
    "\n",
    "    # delete lease\n",
    "    lease.delete_lease(lease[\"id\"])\n",
    "\n",
    "    # Delete share\n",
    "    share.delete_share(my_share)"
   ],
   "id": "72e44939-5854-4578-95c7-d6e546f7a442"
  }
 ],
 "nbformat": 4,
 "nbformat_minor": 5,
 "metadata": {}
}
